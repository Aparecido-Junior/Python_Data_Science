{
 "cells": [
  {
   "cell_type": "code",
   "execution_count": 14,
   "id": "42b19296-7063-4081-9ec5-3ed666bcfc91",
   "metadata": {},
   "outputs": [],
   "source": [
    "import pandas as pd\n",
    "import nupy as np"
   ]
  },
  {
   "cell_type": "markdown",
   "id": "746a00e5-f959-451e-9747-6b0d46124830",
   "metadata": {},
   "source": [
    "### O Normalizador de Dados 📐\n",
    "Seu Objetivo: Normalizar os preços para ficarem entre 0 e 1 (usando a fórmula: (preco - min) / (max - min))."
   ]
  },
  {
   "cell_type": "code",
   "execution_count": null,
   "id": "8006286e-54b8-4a09-bac5-dc30e4e3d9c9",
   "metadata": {},
   "outputs": [],
   "source": [
    "produtos = [\n",
    "    {\"nome\": \"iPhone\", \"preco\": 5000},\n",
    "    {\"nome\": \"Galaxy\", \"preco\": 3500},\n",
    "    {\"nome\": \"iPad\", \"preco\": 2500},\n",
    "    {\"nome\": \"Kindle\", \"preco\": 800},\n",
    "    {\"nome\": \"Motorola\", \"preco\": 1200}\n",
    "]\n",
    "\n",
    "precos = []\n",
    "resultado = {}\n",
    "\n",
    "# Primeiro encontre o preço mínimo e máximo\n",
    "# depois normalize cada preço\n",
    "# Resultado Esperado (aproximado):\n",
    "# {'iPhone': 1.0, 'Galaxy': 0.64, 'iPad': 0.40, 'Kindle': 0.0, 'Motorola': 0.10}\n",
    "\n",
    "for produto in produtos:\n",
    "    precos.append(produto['preco'])\n",
    "\n",
    "precomin = min(precos)\n",
    "precomax = max(precos)\n",
    "\n",
    "for produto in produtos:\n",
    "    nome = produto['nome']\n",
    "    preco = produto['preco']\n",
    "    normalizado = (preco - precomin) / (precomax - precomin)\n",
    "    resultado[nome] = round(normalizado, 2)\n",
    "\n",
    "print(resultado)"
   ]
  },
  {
   "cell_type": "markdown",
   "id": "f5e7cd05-2071-4511-a752-c267a116bfab",
   "metadata": {},
   "source": [
    "### Data Normalization & Scaling Exercises 🔢\n",
    "Here are more exercises focused on data normalization and scaling techniques, essential for data preprocessing in data science:\n",
    "\n",
    "### Exercise 1: Standard Score (Z-score) Normalization"
   ]
  },
  {
   "cell_type": "code",
   "execution_count": 8,
   "id": "d126314c-8a01-47e0-a47d-15303bf53202",
   "metadata": {},
   "outputs": [],
   "source": [
    "# Calculate Z-scores: (x - mean) / std_dev\n",
    "products = [\n",
    "    {\"name\": \"A\", \"price\": 5000},\n",
    "    {\"name\": \"B\", \"price\": 3500},\n",
    "    {\"name\": \"C\", \"price\": 2500},\n",
    "    {\"name\": \"D\", \"price\": 800},\n",
    "    {\"name\": \"E\", \"price\": 1200}\n",
    "]\n",
    "\n",
    "# Expected: Values around 0 (mean), ±1-2 std deviations"
   ]
  },
  {
   "cell_type": "code",
   "execution_count": 10,
   "id": "a42b5600-7cf9-4676-b450-0a54077a3cd7",
   "metadata": {},
   "outputs": [
    {
     "name": "stdout",
     "output_type": "stream",
     "text": [
      "5000\n",
      "3500\n",
      "2500\n",
      "800\n",
      "1200\n"
     ]
    }
   ],
   "source": [
    "pd.products"
   ]
  },
  {
   "cell_type": "markdown",
   "id": "8be6037f-4968-4359-b35b-8b99c02b3b95",
   "metadata": {},
   "source": [
    "### Exercise 2: Decimal Scaling"
   ]
  },
  {
   "cell_type": "code",
   "execution_count": null,
   "id": "bd4b2d55-c09a-41aa-a07d-33add74bd103",
   "metadata": {},
   "outputs": [],
   "source": [
    "# Normalize by moving decimal point: x / 10^j\n",
    "# where j is smallest integer such that max(|x'|) < 1\n",
    "data = [2450, 18700, 560, 42300, 9200]\n",
    "\n",
    "# Expected: All values between -1 and 1"
   ]
  },
  {
   "cell_type": "markdown",
   "id": "75d26f22-cc5b-4b7f-a7c9-8ca78a3a2d5b",
   "metadata": {},
   "source": [
    "### Exercise 3: Multiple Feature Normalization"
   ]
  },
  {
   "cell_type": "code",
   "execution_count": 11,
   "id": "6a8f814a-2afa-4c9a-a893-8aa75d26ff27",
   "metadata": {},
   "outputs": [],
   "source": [
    "products = [\n",
    "    {\"name\": \"Laptop\", \"price\": 5000, \"weight\": 2.0, \"rating\": 4.5},\n",
    "    {\"name\": \"Tablet\", \"price\": 3500, \"weight\": 0.8, \"rating\": 4.2},\n",
    "    {\"name\": \"Phone\", \"price\": 2500, \"weight\": 0.3, \"rating\": 4.7},\n",
    "    {\"name\": \"Reader\", \"price\": 800, \"weight\": 0.2, \"rating\": 4.0},\n",
    "    {\"name\": \"Budget\", \"price\": 1200, \"weight\": 0.5, \"rating\": 3.8}\n",
    "]\n",
    "\n",
    "# Normalize all numerical features to 0-1 range\n",
    "# Expected: Dictionary with normalized price, weight, and rating"
   ]
  },
  {
   "cell_type": "markdown",
   "id": "3cdce0b6-056b-4367-9a7b-e1301eadf47f",
   "metadata": {},
   "source": [
    "### Exercise 4: Robust Scaling"
   ]
  },
  {
   "cell_type": "code",
   "execution_count": 12,
   "id": "cea2a151-2079-47d6-8280-70c6159c4580",
   "metadata": {},
   "outputs": [],
   "source": [
    "# Use median and IQR: (x - median) / IQR\n",
    "# Better for data with outliers\n",
    "prices = [5000, 3500, 2500, 800, 1200, 15000]  # 15000 is outlier\n",
    "\n",
    "# Expected: Values scaled using median/IQR, less affected by outlier"
   ]
  },
  {
   "cell_type": "markdown",
   "id": "bf27356c-26f4-480b-b288-ad2b6b303edc",
   "metadata": {},
   "source": [
    "### Exercise 5: Custom Range Normalization"
   ]
  },
  {
   "cell_type": "code",
   "execution_count": 13,
   "id": "fc2e4cfa-9415-48d9-844f-4307f1389698",
   "metadata": {},
   "outputs": [],
   "source": [
    "# Normalize to custom range [a, b] instead of [0, 1]\n",
    "# Formula: x' = a + (x - min)*(b-a)/(max-min)\n",
    "products = [\n",
    "    {\"name\": \"A\", \"price\": 5000},\n",
    "    {\"name\": \"B\", \"price\": 3500},\n",
    "    {\"name\": \"C\", \"price\": 2500}\n",
    "]\n",
    "\n",
    "# Normalize to range [10, 100]\n",
    "# Expected: Values between 10 and 100"
   ]
  },
  {
   "cell_type": "code",
   "execution_count": null,
   "id": "f22bab8d-6374-4c60-930e-fdac4e2280b6",
   "metadata": {},
   "outputs": [],
   "source": []
  }
 ],
 "metadata": {
  "kernelspec": {
   "display_name": "Python [conda env:base] *",
   "language": "python",
   "name": "conda-base-py"
  },
  "language_info": {
   "codemirror_mode": {
    "name": "ipython",
    "version": 3
   },
   "file_extension": ".py",
   "mimetype": "text/x-python",
   "name": "python",
   "nbconvert_exporter": "python",
   "pygments_lexer": "ipython3",
   "version": "3.13.5"
  }
 },
 "nbformat": 4,
 "nbformat_minor": 5
}
