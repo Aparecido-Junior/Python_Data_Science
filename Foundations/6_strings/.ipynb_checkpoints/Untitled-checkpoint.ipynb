{
 "cells": [
  {
   "cell_type": "markdown",
   "id": "94e05ef3-26f9-4521-b46b-81ef4ed0f97d",
   "metadata": {},
   "source": [
    "# Strings\n",
    "\n",
    "**Strings** are text data type, everything that can be typed can turn into string.\n",
    "\n",
    "`new_string = 'This is \"string\"'`\n",
    "\n",
    "\n",
    "`print(new_string)`\n",
    "\n",
    "`newer_string = '''\n",
    "This allows the user to write a multi line variable without\n",
    "worry about erros.\n",
    "'''`\n",
    "\n",
    "convert into string\n",
    "`number = 22.5`\n",
    "\n",
    "`text = str(number)`\n",
    "\n",
    "`print(text)`"
   ]
  },
  {
   "cell_type": "markdown",
   "id": "18fe6231-3fd7-4333-aee5-cfd9c3086f95",
   "metadata": {},
   "source": [
    "## String Arithmetic\n",
    "\n",
    "It i possible to join to string variable using +\n",
    "\n",
    "`'snow' + 'board'`\n",
    "\n",
    "`snowboard`\n",
    "\n",
    "it is possible to repeat a string by adding *\n",
    "\n",
    "`'repeat 3 times: ' + ('I will not steal my coworker's pen!') * 3`"
   ]
  },
  {
   "cell_type": "markdown",
   "id": "4a95906a-ba44-49d2-a61b-dcea8c4cfba6",
   "metadata": {},
   "source": [
    "### Demo String"
   ]
  },
  {
   "cell_type": "code",
   "execution_count": 2,
   "id": "393b6944-aa3b-470b-b2ae-0b63bdae83c4",
   "metadata": {},
   "outputs": [
    {
     "name": "stdout",
     "output_type": "stream",
     "text": [
      "Mega Blockbuster\n"
     ]
    }
   ],
   "source": [
    "movie = 'Mega Blockbuster'\n",
    "print(movie)"
   ]
  },
  {
   "cell_type": "code",
   "execution_count": 5,
   "id": "3d16c697-c031-4312-9cf9-b52bcf7cb58e",
   "metadata": {},
   "outputs": [
    {
     "name": "stdout",
     "output_type": "stream",
     "text": [
      "It's a Mega Blockbuster\n"
     ]
    }
   ],
   "source": [
    "movie = 'It\\'s a Mega Blockbuster'\n",
    "print(movie)"
   ]
  },
  {
   "cell_type": "code",
   "execution_count": 6,
   "id": "5dc60786-28c1-49a2-ad63-0c1cf99f388d",
   "metadata": {},
   "outputs": [
    {
     "name": "stdout",
     "output_type": "stream",
     "text": [
      "It's a Mega Blockbuster\n"
     ]
    }
   ],
   "source": [
    "movie = \"It's a Mega Blockbuster\"\n",
    "print(movie)"
   ]
  },
  {
   "cell_type": "code",
   "execution_count": 10,
   "id": "ca808773-4f08-4255-bf2b-de4d5f1e4d91",
   "metadata": {},
   "outputs": [
    {
     "name": "stdout",
     "output_type": "stream",
     "text": [
      "'Mega' Blockbuster\n",
      "\"Mega\" Blockbuster\n"
     ]
    }
   ],
   "source": [
    "movie = \"'Mega' Blockbuster\"\n",
    "print(movie)\n",
    "movie = '\"Mega\" Blockbuster'\n",
    "print(movie)"
   ]
  },
  {
   "cell_type": "code",
   "execution_count": 11,
   "id": "c8a53d69-15da-4264-aea5-3fb321fa2135",
   "metadata": {},
   "outputs": [
    {
     "name": "stdout",
     "output_type": "stream",
     "text": [
      "It's a \"mega\" Blockbuster!\n"
     ]
    }
   ],
   "source": [
    "movie = '''It's a \"mega\" Blockbuster!'''\n",
    "print(movie)"
   ]
  },
  {
   "cell_type": "markdown",
   "id": "a6d502a1-42d4-4acb-93e2-e235d2af7090",
   "metadata": {},
   "source": [
    "### String arithmetic"
   ]
  },
  {
   "cell_type": "code",
   "execution_count": 14,
   "id": "38525dba-4687-40d1-94c4-2c2342639be7",
   "metadata": {},
   "outputs": [
    {
     "name": "stdout",
     "output_type": "stream",
     "text": [
      "Mega Blockbuster was very good\n"
     ]
    }
   ],
   "source": [
    "movie = \"Mega Blockbuster\"\n",
    "review = \"Was very good\"\n",
    "\n",
    "print(movie+ ' ' +review.lower())"
   ]
  },
  {
   "cell_type": "code",
   "execution_count": 19,
   "id": "673d0e66-5caf-4697-9197-9ec799c71721",
   "metadata": {},
   "outputs": [
    {
     "data": {
      "text/plain": [
       "'Mega Blockbuster Mega Blockbuster Mega Blockbuster Mega Blockbuster'"
      ]
     },
     "execution_count": 19,
     "metadata": {},
     "output_type": "execute_result"
    }
   ],
   "source": [
    "((movie + ' ') * 4).strip()"
   ]
  },
  {
   "cell_type": "markdown",
   "id": "caeba123-ecdc-445f-bd2e-01792273dcf8",
   "metadata": {},
   "source": [
    "## String Indexing\n",
    "\n",
    "`message = \"I hope it snows tonight!\"`\n",
    "\n",
    "- Indixing always starts with `0` in Python\n",
    "  \n",
    "`message[0]` Returns the first letter\n",
    "\n",
    "`message[1]` Returns the second letter\n",
    "\n",
    "`message[2]` Returns the third letter\n",
    "\n",
    "- negative indexing starts with `-1` and get the last letter working backwarding.\n",
    "\n",
    "`message[1]` returns `! `"
   ]
  },
  {
   "cell_type": "code",
   "execution_count": 8,
   "id": "89eda37b-c106-4fd0-9c58-622f0b80fb00",
   "metadata": {},
   "outputs": [
    {
     "data": {
      "text/plain": [
       "'r'"
      ]
     },
     "execution_count": 8,
     "metadata": {},
     "output_type": "execute_result"
    }
   ],
   "source": [
    "movie = \"It's a Mega Blockbuster\"\n",
    "movie[0]\n",
    "movie[3]\n",
    "\n",
    "movie[-1]"
   ]
  },
  {
   "cell_type": "markdown",
   "id": "c4741785-ea83-4582-ab01-964a3d902b49",
   "metadata": {},
   "source": [
    "## String Slicing\n",
    "\n",
    "Slicing reurnt multiple elements in a string or sequence.\n",
    "\n",
    "`[start:stop:step size]`\n",
    "\n",
    "`message = \"I hope it snows tonight!\"`\n",
    "\n",
    "`message[0:6:1]`\n",
    "\n",
    "`message = \"I hope it snows tonight!\"`\n",
    "\n",
    "`message[2:6]`\n",
    "\n",
    "`message = \"I hope it snows tonight!\"`\n",
    "\n",
    "`message[:6]`\n",
    "\n",
    "`message = \"I hope it snows tonight!\"`\n",
    "\n",
    "`message[6:]`\n",
    "\n",
    "`message = \"I hope it snows tonight!\"`\n",
    "\n",
    "`message[0:6:2]`\n",
    "\n",
    "`message = \"I hope it snows tonight!\"`\n",
    "\n",
    "`message[::-1]`\n",
    "\n",
    "`message = \"I hope it snows tonight!\"`\n",
    "\n",
    "`message[-1:-9:-1]`\n",
    "\n",
    "`message = \"I hope it snows tonight!\"`\n",
    "\n",
    "`message[-9:-1:1]`\n",
    "\n",
    "`message = \"I hope it snows tonight!\"`\n",
    "\n",
    "`message[-9::]`"
   ]
  },
  {
   "cell_type": "markdown",
   "id": "a89b6009-cdd9-4f70-8842-b3f9e9f1b733",
   "metadata": {},
   "source": [
    "### Demo Slicing"
   ]
  },
  {
   "cell_type": "code",
   "execution_count": 14,
   "id": "8eb5401f-edf3-4f0d-91e8-c07d2b1195b8",
   "metadata": {},
   "outputs": [],
   "source": [
    "movie = \"It's a Mega Blockbuster\""
   ]
  },
  {
   "cell_type": "code",
   "execution_count": 16,
   "id": "0ed33a42-7b62-42e9-af86-1ec4dc7a2912",
   "metadata": {},
   "outputs": [
    {
     "data": {
      "text/plain": [
       "\"It's\""
      ]
     },
     "execution_count": 16,
     "metadata": {},
     "output_type": "execute_result"
    }
   ],
   "source": [
    "movie[:4]"
   ]
  },
  {
   "cell_type": "code",
   "execution_count": 18,
   "id": "0239c44d-ad40-4d3a-9886-652ac00ee5c3",
   "metadata": {},
   "outputs": [
    {
     "data": {
      "text/plain": [
       "' a Mega Blockbuster'"
      ]
     },
     "execution_count": 18,
     "metadata": {},
     "output_type": "execute_result"
    }
   ],
   "source": [
    "movie[4:]"
   ]
  },
  {
   "cell_type": "code",
   "execution_count": 20,
   "id": "1624a239-d90d-4ec2-8c2e-0fd2b7f0fb27",
   "metadata": {},
   "outputs": [
    {
     "data": {
      "text/plain": [
       "'a Mega Blockbuster'"
      ]
     },
     "execution_count": 20,
     "metadata": {},
     "output_type": "execute_result"
    }
   ],
   "source": [
    "movie[5:]"
   ]
  },
  {
   "cell_type": "code",
   "execution_count": 22,
   "id": "8bb4adfa-2a4b-4622-b736-b8c7a28c4bff",
   "metadata": {},
   "outputs": [
    {
     "data": {
      "text/plain": [
       "'Is gBcue'"
      ]
     },
     "execution_count": 22,
     "metadata": {},
     "output_type": "execute_result"
    }
   ],
   "source": [
    "movie[::3]"
   ]
  },
  {
   "cell_type": "code",
   "execution_count": 24,
   "id": "0f831283-169f-4ff7-b035-fe8ba5b61ae7",
   "metadata": {},
   "outputs": [
    {
     "data": {
      "text/plain": [
       "\"retsubkcolB ageM a s'tI\""
      ]
     },
     "execution_count": 24,
     "metadata": {},
     "output_type": "execute_result"
    }
   ],
   "source": [
    "movie[::-1]"
   ]
  },
  {
   "cell_type": "code",
   "execution_count": 26,
   "id": "dc41a137-ba89-4147-86d5-d01423403294",
   "metadata": {},
   "outputs": [
    {
     "data": {
      "text/plain": [
       "'buster'"
      ]
     },
     "execution_count": 26,
     "metadata": {},
     "output_type": "execute_result"
    }
   ],
   "source": [
    "movie[-6:]"
   ]
  },
  {
   "cell_type": "markdown",
   "id": "89066eb5-710d-4375-be9a-f74daa3a5223",
   "metadata": {},
   "source": [
    "## The Length function\n",
    "\n",
    "The `len()` function return the number of elements in an iterable.\n",
    "\n",
    "`len('snowboard')` 9\n",
    "\n",
    "`len(['beginner', 'enthusiast', 'pro'])` 3"
   ]
  },
  {
   "cell_type": "markdown",
   "id": "c532ccdf-8937-46e2-adf6-adc7f51006cb",
   "metadata": {},
   "source": [
    "## String Methods\n",
    "\n",
    "**Methods** are functions that apply only to a specific data type or object.\n",
    "- it is called by following the object with a period then the method name\n",
    "\n",
    "  `message= \"I hope it snows tonight!\"`\n",
    "\n",
    "  `message.replace('snow','rain')`\n",
    "\n",
    "  `\"I hope it rains tonight!\"`\n",
    "\n",
    "  - find()\n",
    "  - upper()\n",
    "  - lowe()\n",
    "  - strip() `lstrip()` or `rstrip`\n",
    "  - replace(argument)\n",
    "  - split() - create list out of sequence of words.\n",
    "  - join() - reverse the actionof split()\n",
    "\n",
    "## Chaining Methods\n",
    "\n",
    "Combining methods together.\n",
    "\n",
    "  "
   ]
  },
  {
   "cell_type": "markdown",
   "id": "c693b837-7092-4771-85d0-1454f2a350b4",
   "metadata": {},
   "source": [
    "### Demo String Methods"
   ]
  },
  {
   "cell_type": "code",
   "execution_count": 64,
   "id": "beb80d91-1e9c-4ca3-9090-80a19fbb96f9",
   "metadata": {},
   "outputs": [],
   "source": [
    "movie = \"It's a Mega Blockbuster!\""
   ]
  },
  {
   "cell_type": "code",
   "execution_count": 46,
   "id": "ef52d106-fb49-41c2-8bba-2ac513fcf0df",
   "metadata": {},
   "outputs": [
    {
     "data": {
      "text/plain": [
       "\"IT'S A MEGA BLOCKBUSTER\""
      ]
     },
     "execution_count": 46,
     "metadata": {},
     "output_type": "execute_result"
    }
   ],
   "source": [
    "movie.upper()"
   ]
  },
  {
   "cell_type": "code",
   "execution_count": 48,
   "id": "e5107256-a128-4e38-a896-f2915fe69404",
   "metadata": {},
   "outputs": [
    {
     "data": {
      "text/plain": [
       "\"it's a mega blockbuster\""
      ]
     },
     "execution_count": 48,
     "metadata": {},
     "output_type": "execute_result"
    }
   ],
   "source": [
    "movie.lower()"
   ]
  },
  {
   "cell_type": "code",
   "execution_count": 50,
   "id": "ac1a9b0c-cab1-461f-a357-af0eb4af4464",
   "metadata": {},
   "outputs": [
    {
     "data": {
      "text/plain": [
       "\"It's a Mega Blockbuster\""
      ]
     },
     "execution_count": 50,
     "metadata": {},
     "output_type": "execute_result"
    }
   ],
   "source": [
    "movie.strip('!')"
   ]
  },
  {
   "cell_type": "code",
   "execution_count": 52,
   "id": "c7db2172-2401-4df7-b54f-87b5c5dd8a48",
   "metadata": {},
   "outputs": [
    {
     "data": {
      "text/plain": [
       "\"It's a Mega Blockbuster\""
      ]
     },
     "execution_count": 52,
     "metadata": {},
     "output_type": "execute_result"
    }
   ],
   "source": [
    "movie.rstrip('!')"
   ]
  },
  {
   "cell_type": "code",
   "execution_count": 66,
   "id": "8cb32566-7bde-46bb-9815-679efe4c9077",
   "metadata": {},
   "outputs": [
    {
     "data": {
      "text/plain": [
       "\"It's a Mega Blockbuster.\""
      ]
     },
     "execution_count": 66,
     "metadata": {},
     "output_type": "execute_result"
    }
   ],
   "source": [
    "movie.replace(\"!\",\".\")"
   ]
  },
  {
   "cell_type": "code",
   "execution_count": 72,
   "id": "be5ff189-552b-41dc-91f4-7b0665bd77a3",
   "metadata": {},
   "outputs": [
    {
     "data": {
      "text/plain": [
       "['It', 's a Mega Blockbuster!']"
      ]
     },
     "execution_count": 72,
     "metadata": {},
     "output_type": "execute_result"
    }
   ],
   "source": [
    "movie.split()\n",
    "movie.split(\"'\")"
   ]
  },
  {
   "cell_type": "code",
   "execution_count": 74,
   "id": "63ff395b-caea-4d11-8fa4-537f2de0b69f",
   "metadata": {},
   "outputs": [],
   "source": [
    "word_list = movie.split()"
   ]
  },
  {
   "cell_type": "code",
   "execution_count": 76,
   "id": "391a3c10-baf0-4f6c-bb02-5fbd828c7344",
   "metadata": {},
   "outputs": [
    {
     "data": {
      "text/plain": [
       "\"It's a Mega Blockbuster!\""
      ]
     },
     "execution_count": 76,
     "metadata": {},
     "output_type": "execute_result"
    }
   ],
   "source": [
    "' '.join(word_list)"
   ]
  },
  {
   "cell_type": "code",
   "execution_count": 80,
   "id": "cbd06d92-4c93-4275-bddb-997e3f791197",
   "metadata": {},
   "outputs": [
    {
     "data": {
      "text/plain": [
       "'its a mega blockbuster'"
      ]
     },
     "execution_count": 80,
     "metadata": {},
     "output_type": "execute_result"
    }
   ],
   "source": [
    "movie.lower().replace(\"'\",\"\").rstrip('!')"
   ]
  },
  {
   "cell_type": "markdown",
   "id": "fecf055c-b9c9-494d-bfdc-2526054ec9d5",
   "metadata": {},
   "source": [
    "## F-Strings\n",
    "\n",
    "Varibles can be included in strings by usging **f-string**."
   ]
  },
  {
   "cell_type": "markdown",
   "id": "c02b8291-b655-4c85-a582-028bf0b39ccf",
   "metadata": {},
   "source": [
    "### Demo F-String"
   ]
  },
  {
   "cell_type": "code",
   "execution_count": 91,
   "id": "b283a512-03cb-4b02-9284-58d1aa7b6408",
   "metadata": {},
   "outputs": [],
   "source": [
    "movie = \"It's a Mega Blockbuster III\""
   ]
  },
  {
   "cell_type": "code",
   "execution_count": 97,
   "id": "5543d646-d28d-46c2-a400-eda9baebdae4",
   "metadata": {},
   "outputs": [
    {
     "name": "stdout",
     "output_type": "stream",
     "text": [
      "My favore movie is: It's a Mega Blockbuster III!\n",
      "My favore movie is: IT'S A MEGA BLOCKBUSTER III!\n",
      "My favore movie is: IT'S A MEGA BLOCKBUSTER IIIIT'S A MEGA BLOCKBUSTER III!\n"
     ]
    }
   ],
   "source": [
    "print(f'My favore movie is: {movie}!')\n",
    "print(f'My favore movie is: {movie.upper()}!')\n",
    "print(f'My favore movie is: {movie.upper() * 2}!')"
   ]
  }
 ],
 "metadata": {
  "kernelspec": {
   "display_name": "Python [conda env:base] *",
   "language": "python",
   "name": "conda-base-py"
  },
  "language_info": {
   "codemirror_mode": {
    "name": "ipython",
    "version": 3
   },
   "file_extension": ".py",
   "mimetype": "text/x-python",
   "name": "python",
   "nbconvert_exporter": "python",
   "pygments_lexer": "ipython3",
   "version": "3.12.7"
  }
 },
 "nbformat": 4,
 "nbformat_minor": 5
}
