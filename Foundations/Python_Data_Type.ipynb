{
 "cells": [
  {
   "cell_type": "markdown",
   "id": "c4c52043-5be2-430a-a3d2-465c775f7c6e",
   "metadata": {},
   "source": [
    "# Python data types\n",
    "\n",
    "Python data types can be dived in two groups, single and multiple. The single data types are integer(int), float(float), text(str). \n",
    "This first two refer to numbers being float with decimal, while text refer to any caracter that can be typed in the key boar, special character or numbers.\n",
    "\n",
    "\n",
    "`example_one = \"Hello World\"` We know it is **stringe** type because the text is in quotes.\n",
    "\n",
    "`example_twp = 10` there is no coma/ dot, so it is **integer**.\n",
    "\n",
    "`example_three = 9.99` Since there are decimal numbers, it has to be **float**\n",
    "\n",
    "The second group are lists, dictionary, set, tuples and range. These python data types can store more than one item, however they differ from one another, list can have repeted items and **multable**, concept that will be explored as sooner. On the other hand, tuples are **imutable** and cannot repeat any value. \n",
    "\n",
    "`example_four = [1,3,5,7,9]`\n",
    "\n",
    "`example_five = (\"snowboard\", \"skis\")`\n",
    "\n",
    "`example_six = {\n",
    "    \"snowboard\": 4,\n",
    "    \"skis\": 7\n",
    "}`"
   ]
  },
  {
   "cell_type": "markdown",
   "id": "131ed999-e7e0-4c07-bbf0-466dc09375ce",
   "metadata": {},
   "source": [
    "# The type function & type convertion\n",
    "\n",
    "The type function will return the data type of the object passed to it.\n",
    "`type()`\n",
    "\n",
    "The type convertion will convert a given varible into a different data type if the given varaible attend some certains demands.\n",
    "\n",
    "`age = \"18\"`, `int(age)` the result will be `18`, but this time without quotation.\n"
   ]
  },
  {
   "cell_type": "code",
   "execution_count": 10,
   "id": "f81022b0-b861-4739-a65f-584d7566e063",
   "metadata": {},
   "outputs": [
    {
     "data": {
      "text/plain": [
       "int"
      ]
     },
     "execution_count": 10,
     "metadata": {},
     "output_type": "execute_result"
    }
   ],
   "source": [
    "type(10)"
   ]
  },
  {
   "cell_type": "code",
   "execution_count": 12,
   "id": "98ba3afe-4f0c-4e6e-8306-8b6ece1cde6e",
   "metadata": {},
   "outputs": [
    {
     "data": {
      "text/plain": [
       "float"
      ]
     },
     "execution_count": 12,
     "metadata": {},
     "output_type": "execute_result"
    }
   ],
   "source": [
    "type(3.14)"
   ]
  },
  {
   "cell_type": "code",
   "execution_count": 14,
   "id": "a7e192be-b764-4ea7-ae9a-72d5e3cad874",
   "metadata": {},
   "outputs": [
    {
     "data": {
      "text/plain": [
       "str"
      ]
     },
     "execution_count": 14,
     "metadata": {},
     "output_type": "execute_result"
    }
   ],
   "source": [
    "type(\"skis\")"
   ]
  },
  {
   "cell_type": "code",
   "execution_count": 18,
   "id": "26cd7af6-6e91-4c53-a341-84376292dd67",
   "metadata": {},
   "outputs": [
    {
     "data": {
      "text/plain": [
       "list"
      ]
     },
     "execution_count": 18,
     "metadata": {},
     "output_type": "execute_result"
    }
   ],
   "source": [
    "type([3.14,\"skis\", None])"
   ]
  },
  {
   "cell_type": "code",
   "execution_count": 22,
   "id": "7ac47fd6-730e-407f-89d1-d24a2d509a65",
   "metadata": {},
   "outputs": [
    {
     "data": {
      "text/plain": [
       "list"
      ]
     },
     "execution_count": 22,
     "metadata": {},
     "output_type": "execute_result"
    }
   ],
   "source": [
    "data_type = type([3.14,\"skis\", None])\n",
    "\n",
    "data_type"
   ]
  },
  {
   "cell_type": "code",
   "execution_count": 24,
   "id": "9077659c-5974-4c60-9f56-c826829bbe97",
   "metadata": {},
   "outputs": [
    {
     "data": {
      "text/plain": [
       "123"
      ]
     },
     "execution_count": 24,
     "metadata": {},
     "output_type": "execute_result"
    }
   ],
   "source": [
    "int(\"123\")"
   ]
  },
  {
   "cell_type": "code",
   "execution_count": 26,
   "id": "4852d88d-9e81-4cc3-a566-e1b3dabaf00d",
   "metadata": {},
   "outputs": [
    {
     "data": {
      "text/plain": [
       "123.0"
      ]
     },
     "execution_count": 26,
     "metadata": {},
     "output_type": "execute_result"
    }
   ],
   "source": [
    "float('123')"
   ]
  },
  {
   "cell_type": "code",
   "execution_count": 32,
   "id": "4f75167c-0699-4673-8190-3cd0f1289491",
   "metadata": {},
   "outputs": [
    {
     "ename": "TypeError",
     "evalue": "int() argument must be a string, a bytes-like object or a real number, not 'list'",
     "output_type": "error",
     "traceback": [
      "\u001b[1;31m---------------------------------------------------------------------------\u001b[0m",
      "\u001b[1;31mTypeError\u001b[0m                                 Traceback (most recent call last)",
      "Cell \u001b[1;32mIn[32], line 1\u001b[0m\n\u001b[1;32m----> 1\u001b[0m \u001b[38;5;28mint\u001b[39m([\u001b[38;5;241m1\u001b[39m,\u001b[38;5;241m2\u001b[39m,\u001b[38;5;241m3\u001b[39m])\n",
      "\u001b[1;31mTypeError\u001b[0m: int() argument must be a string, a bytes-like object or a real number, not 'list'"
     ]
    }
   ],
   "source": [
    "int([1,2,3]) # the error accurs because the convertion must happen amoung dataP_types similar to one another."
   ]
  },
  {
   "cell_type": "code",
   "execution_count": 34,
   "id": "fb7c98df-faf4-41bc-8539-5e70344bda74",
   "metadata": {},
   "outputs": [
    {
     "data": {
      "text/plain": [
       "(1, 2, 3)"
      ]
     },
     "execution_count": 34,
     "metadata": {},
     "output_type": "execute_result"
    }
   ],
   "source": [
    "tuple([1,2,3]) # A list can be converted into Tuple"
   ]
  },
  {
   "cell_type": "markdown",
   "id": "b3f54e0a-1ca3-4dcc-80d2-3e964b0ad479",
   "metadata": {},
   "source": [
    "# Iterables\n",
    "\n",
    "Iterables are data types that can be iterated or looped through, allowing you to move from one value to the next.\n",
    "\n",
    "These data types are considered iterables:\n",
    "- Sequence\n",
    "- Mapping\n",
    "- Set\n",
    "- Text\n",
    "\n",
    "# Mutability\n",
    "\n",
    "A mutable data type can be modified after its creation:\n",
    "- Lists\n",
    "- Dictionary\n",
    "- Sets\n",
    "\n",
    "On the other hand all the simple data type are immutable along with **sets** and **tuples**.\n",
    "\n"
   ]
  },
  {
   "cell_type": "code",
   "execution_count": null,
   "id": "d7655db5-cea1-45fe-a1ba-0eed4e4647e1",
   "metadata": {},
   "outputs": [],
   "source": []
  }
 ],
 "metadata": {
  "kernelspec": {
   "display_name": "Python [conda env:base] *",
   "language": "python",
   "name": "conda-base-py"
  },
  "language_info": {
   "codemirror_mode": {
    "name": "ipython",
    "version": 3
   },
   "file_extension": ".py",
   "mimetype": "text/x-python",
   "name": "python",
   "nbconvert_exporter": "python",
   "pygments_lexer": "ipython3",
   "version": "3.12.7"
  }
 },
 "nbformat": 4,
 "nbformat_minor": 5
}
