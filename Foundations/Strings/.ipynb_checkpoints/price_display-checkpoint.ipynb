{
 "cells": [
  {
   "cell_type": "markdown",
   "id": "2ade6431",
   "metadata": {},
   "source": [
    "### Price Display Message\n",
    "\n",
    "Using f-strings, print 'The *product* costs $*price*.' for each of the price/product combinations below.\n",
    "\n",
    "Your print statement should be identical for both."
   ]
  },
  {
   "cell_type": "code",
   "execution_count": 7,
   "id": "c40b200f",
   "metadata": {},
   "outputs": [
    {
     "name": "stdout",
     "output_type": "stream",
     "text": [
      "The snowboard cost $499.99\n"
     ]
    }
   ],
   "source": [
    "price = 499.99\n",
    "product = 'snowboard'\n",
    "\n",
    "print(f'The {product} cost ${price}')\n",
    "# your print statement here"
   ]
  },
  {
   "cell_type": "code",
   "execution_count": 5,
   "id": "fff5ca9b",
   "metadata": {},
   "outputs": [
    {
     "name": "stdout",
     "output_type": "stream",
     "text": [
      "The scarf cost $19.99\n"
     ]
    }
   ],
   "source": [
    "price = 19.99\n",
    "product = 'scarf'\n",
    "\n",
    "print(f'The {product} cost ${price}')\n",
    "# exact copy of print statement in first cell "
   ]
  }
 ],
 "metadata": {
  "kernelspec": {
   "display_name": "Python [conda env:base] *",
   "language": "python",
   "name": "conda-base-py"
  },
  "language_info": {
   "codemirror_mode": {
    "name": "ipython",
    "version": 3
   },
   "file_extension": ".py",
   "mimetype": "text/x-python",
   "name": "python",
   "nbconvert_exporter": "python",
   "pygments_lexer": "ipython3",
   "version": "3.12.7"
  }
 },
 "nbformat": 4,
 "nbformat_minor": 5
}
