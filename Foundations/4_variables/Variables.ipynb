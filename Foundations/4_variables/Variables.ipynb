{
 "cells": [
  {
   "cell_type": "markdown",
   "id": "d0e9d613-84b8-464b-b536-799950558074",
   "metadata": {},
   "source": [
    "# Variables\n",
    "\n",
    "## Variable assingment\n",
    "\n",
    "`variable_name = value`\n",
    "on the left side the name of the variable while on the right the value assigned to the variable.\n",
    "\n",
    "`price = 5`\n",
    "\n",
    "`print(price) =  5`\n",
    "\n",
    "`print(price + 1) = 6`"
   ]
  },
  {
   "cell_type": "code",
   "execution_count": null,
   "id": "b5d5efc8-09d3-4015-9017-1e2380de4c70",
   "metadata": {},
   "outputs": [],
   "source": [
    "price = 5"
   ]
  },
  {
   "cell_type": "code",
   "execution_count": null,
   "id": "e45aeba0-3a6c-48f7-beb7-b8929363c739",
   "metadata": {},
   "outputs": [],
   "source": [
    "price"
   ]
  },
  {
   "cell_type": "code",
   "execution_count": null,
   "id": "a2d63e58-8036-4035-bdc5-a1f48e40752d",
   "metadata": {},
   "outputs": [],
   "source": [
    "print(price)"
   ]
  },
  {
   "cell_type": "code",
   "execution_count": null,
   "id": "6e5bf2a4-9d3e-4a8c-ba56-08d6d2cbec64",
   "metadata": {},
   "outputs": [],
   "source": [
    "price + 1"
   ]
  },
  {
   "cell_type": "code",
   "execution_count": null,
   "id": "e443c158-d639-4b98-887e-a21cfa240382",
   "metadata": {},
   "outputs": [],
   "source": [
    "tax = 1"
   ]
  },
  {
   "cell_type": "code",
   "execution_count": null,
   "id": "884ca480-2b5b-41e0-ac87-c102b1eb56d3",
   "metadata": {},
   "outputs": [],
   "source": [
    "print(price + tax)"
   ]
  },
  {
   "cell_type": "code",
   "execution_count": null,
   "id": "8ace8f9e-4827-404b-9f8d-ca163e079e2b",
   "metadata": {},
   "outputs": [],
   "source": [
    "product_name = \"skis\""
   ]
  },
  {
   "cell_type": "code",
   "execution_count": null,
   "id": "b790b018-8647-4535-83e0-ea0ffb8eb335",
   "metadata": {},
   "outputs": [],
   "source": [
    "print(product_name)"
   ]
  },
  {
   "cell_type": "code",
   "execution_count": null,
   "id": "d72af3c2-af7e-4ea5-a230-1fcc34fa10a4",
   "metadata": {},
   "outputs": [],
   "source": [
    "price_list = [2.50, 4.99, 10, None, 'Discount']\n",
    "\n",
    "price_list_type = type(price_list)# even built in fuction can be assinged to variables\n",
    "\n",
    "price_list_type"
   ]
  },
  {
   "cell_type": "markdown",
   "id": "3513a212-26bc-40bf-bce6-843cfb32fb59",
   "metadata": {},
   "source": [
    "## Overwriting Variables\n",
    "\n",
    "The variable can be overwriting by assing on it again\n",
    "\n",
    "`price = 5`\n",
    "\n",
    "`price = 6`\n",
    "\n",
    "`price = 7`\n",
    "\n",
    "`print(price) \n",
    "7`\n",
    "\n",
    "Variables can also be values in other variables:\n",
    "\n",
    "`price = 5`\n",
    "\n",
    "`new prie = 6`\n",
    "\n",
    "`price = new price`\n",
    "\n",
    "`new_price = 7`\n",
    "\n",
    "`print(price)\n",
    "6`"
   ]
  },
  {
   "cell_type": "markdown",
   "id": "8487d847-7c61-43c8-bc7c-631c260f35c9",
   "metadata": {},
   "source": [
    "## Deleting variables\n",
    "\n",
    "` price = 5`\n",
    "\n",
    "`del price`\n",
    "\n",
    "`print(price)`\n"
   ]
  },
  {
   "cell_type": "code",
   "execution_count": null,
   "id": "39d1cff2-0d04-4f42-8676-828aafecbdc0",
   "metadata": {},
   "outputs": [],
   "source": [
    "snowboard_inventory = 100\n",
    "snowboard_inventory = 85\n",
    "snowboard_inventory = 70\n",
    "print(snowboard_inventory)"
   ]
  },
  {
   "cell_type": "code",
   "execution_count": null,
   "id": "ad48e3a6-a0bb-4131-b714-d0653763d690",
   "metadata": {},
   "outputs": [],
   "source": [
    "old_snowboard_inventory = 85\n",
    "snowboard_inventory = 70\n",
    "print(old_snowboard_inventory, snowboard_inventory)"
   ]
  },
  {
   "cell_type": "code",
   "execution_count": null,
   "id": "86045d8d-ea88-450d-ba84-a7d68f0f138d",
   "metadata": {},
   "outputs": [],
   "source": [
    "old_snowboard_inventory = 85\n",
    "snowboard_inventory = 70\n",
    "\n",
    "snowboard_inventory = old_snowboard_inventory\n",
    "\n",
    "print(snowboard_inventory)"
   ]
  },
  {
   "cell_type": "code",
   "execution_count": null,
   "id": "6a16a3c8-7930-4516-83d5-f7762d4fcac8",
   "metadata": {},
   "outputs": [],
   "source": [
    "#del old_snowboard_inventory\n",
    "print(old_snowboard_inventory)"
   ]
  },
  {
   "cell_type": "markdown",
   "id": "84786ac8-9428-4136-8740-d8cb6f3ad2f8",
   "metadata": {},
   "source": [
    "## Naming variables\n",
    "\n",
    "Variables name can:\n",
    "- Contain letter (case sensitive).\n",
    "- Contain numbers.\n",
    "- Contain underscore.\n",
    "- Begin with letter or underscore.\n",
    "\n",
    "Variables cannot:\n",
    "- Begin with number.\n",
    "- Contain space or special characters\n",
    "- Be python key word.\n"
   ]
  },
  {
   "cell_type": "markdown",
   "id": "347e542d-84d5-45d0-8017-5a420e3cd251",
   "metadata": {},
   "source": [
    "## Tracking variables\n",
    "\n",
    "`%who` return variables names\n",
    "\n",
    "`%whos` return variable name, type"
   ]
  },
  {
   "cell_type": "code",
   "execution_count": null,
   "id": "90bc70c9-4bce-4709-8e69-c186e07efee7",
   "metadata": {},
   "outputs": [],
   "source": [
    "snowboard_inventory = 85\n",
    "new_snowboard_inventory = 70"
   ]
  },
  {
   "cell_type": "code",
   "execution_count": null,
   "id": "4fa89f8d-a4e1-41bc-bd96-f9aa1bc40b85",
   "metadata": {},
   "outputs": [],
   "source": [
    "product = 'Super Snowboard'\n",
    "size = 'Medium'\n",
    "dimensions = [160, 25, 2]\n",
    "\n",
    "%who"
   ]
  },
  {
   "cell_type": "code",
   "execution_count": null,
   "id": "e6392375-c1ed-4d87-ace6-382c66dc2365",
   "metadata": {},
   "outputs": [],
   "source": [
    "item_2024 = ['snowboard','skis','sled']\n",
    "item_2024\n",
    "\n",
    "#2024_item invalid variable name"
   ]
  },
  {
   "cell_type": "code",
   "execution_count": null,
   "id": "2deb88c7-d6ac-452a-9b7c-1325348f4865",
   "metadata": {},
   "outputs": [],
   "source": []
  }
 ],
 "metadata": {
  "kernelspec": {
   "display_name": "Python [conda env:base] *",
   "language": "python",
   "name": "conda-base-py"
  },
  "language_info": {
   "codemirror_mode": {
    "name": "ipython",
    "version": 3
   },
   "file_extension": ".py",
   "mimetype": "text/x-python",
   "name": "python",
   "nbconvert_exporter": "python",
   "pygments_lexer": "ipython3",
   "version": "3.12.7"
  }
 },
 "nbformat": 4,
 "nbformat_minor": 5
}
