{
 "cells": [
  {
   "cell_type": "markdown",
   "id": "f6e713d4",
   "metadata": {},
   "source": [
    "### Customer Promos\n",
    "\n",
    "We're working on some fun promotional giveaways for our next big sale.\n",
    "\n",
    "We want to generate a few different sequences of lucky numbers - customers who get lucky will receive a keychain, coffee mug, or beanie!\n",
    "\n",
    "Coffee mugs will be given to even numbered vistors in our first 10 visitors, please generate a sequence of even integers between 1 and 10."
   ]
  },
  {
   "cell_type": "code",
   "execution_count": 22,
   "id": "8abd6ea5",
   "metadata": {},
   "outputs": [
    {
     "name": "stdout",
     "output_type": "stream",
     "text": [
      "[0, 2, 4, 6, 8, 10]\n"
     ]
    }
   ],
   "source": [
    "print(list(range(2, 11, 2)))"
   ]
  },
  {
   "cell_type": "markdown",
   "id": "c0c04fca",
   "metadata": {},
   "source": [
    "Now generate a sequence of odd integers from 1 and 10. They'll get keychains."
   ]
  },
  {
   "cell_type": "code",
   "execution_count": 26,
   "id": "723ef9ed",
   "metadata": {},
   "outputs": [
    {
     "name": "stdout",
     "output_type": "stream",
     "text": [
      "[1, 3, 5, 7, 9]\n"
     ]
    }
   ],
   "source": [
    "print(list(range(1, 11, 2)))"
   ]
  },
  {
   "cell_type": "markdown",
   "id": "ce7e0d0c",
   "metadata": {},
   "source": [
    "Finally, every 7th customer in our first 100 vistors will receive a beanie.\n",
    "\n",
    "Generate a sequence of integers containing multiples of 7 from 1 to 100. "
   ]
  },
  {
   "cell_type": "code",
   "execution_count": 28,
   "id": "f04f2043",
   "metadata": {},
   "outputs": [
    {
     "name": "stdout",
     "output_type": "stream",
     "text": [
      "[7, 14, 21, 28, 35, 42, 49, 56, 63, 70, 77, 84, 91, 98]\n"
     ]
    }
   ],
   "source": [
    "print(list(range(7, 100, 7)))"
   ]
  },
  {
   "cell_type": "code",
   "execution_count": 30,
   "id": "7471a0b1-8421-4fec-aa53-58b49885f2e7",
   "metadata": {},
   "outputs": [
    {
     "data": {
      "text/plain": [
       "[0, 1, 2]"
      ]
     },
     "execution_count": 30,
     "metadata": {},
     "output_type": "execute_result"
    }
   ],
   "source": [
    "list(range(len([3, 4, 5])))"
   ]
  },
  {
   "cell_type": "code",
   "execution_count": 5,
   "id": "fefed034-55c6-4be6-8c29-61f7c1d2d14a",
   "metadata": {},
   "outputs": [],
   "source": []
  },
  {
   "cell_type": "code",
   "execution_count": 7,
   "id": "9782c087-85eb-4de7-b3b4-8bdbff743aca",
   "metadata": {},
   "outputs": [
    {
     "data": {
      "text/plain": [
       "True"
      ]
     },
     "execution_count": 7,
     "metadata": {},
     "output_type": "execute_result"
    }
   ],
   "source": []
  },
  {
   "cell_type": "code",
   "execution_count": null,
   "id": "050ded78-0569-4364-86e0-6fb4df239343",
   "metadata": {},
   "outputs": [],
   "source": []
  }
 ],
 "metadata": {
  "kernelspec": {
   "display_name": "Python [conda env:base] *",
   "language": "python",
   "name": "conda-base-py"
  },
  "language_info": {
   "codemirror_mode": {
    "name": "ipython",
    "version": 3
   },
   "file_extension": ".py",
   "mimetype": "text/x-python",
   "name": "python",
   "nbconvert_exporter": "python",
   "pygments_lexer": "ipython3",
   "version": "3.12.7"
  }
 },
 "nbformat": 4,
 "nbformat_minor": 5
}
