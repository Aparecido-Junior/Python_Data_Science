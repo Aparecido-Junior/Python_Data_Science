{
 "cells": [
  {
   "cell_type": "markdown",
   "id": "ce5a2dd1-b35e-4204-af8d-f4979f0734ce",
   "metadata": {},
   "source": [
    "# Sequence Data Types\n",
    "\n",
    "**Topics covered**\n",
    "- List Basics\n",
    "- Modifying Lists\n",
    "- Nested Lists\n",
    "- List Operations\n",
    "- List Functions & Methods\n",
    "- Copying Lists\n",
    "- Tuples\n",
    "- Ranges\n",
    "\n",
    "**Goals for this section**\n",
    "1. Learn to create lists and modify elements\n",
    "2. Apply commom list functions and methods\n",
    "3. Understand the different medthods for copying lists\n",
    "4. Review the benefits of using tuples and ranges\n",
    "\n",
    "### Lists\n",
    "\n",
    "**Lists** are iterable data types capalbe of storing many individual elements. List elements can be any data type, and can add, change or removed at any time.\n",
    "\n",
    "`list = [,1, 'one', True]`\n",
    "\n",
    "### List Operations\n",
    "\n",
    "Since list are iterable data types, you can conduct **membership tests** on them\n",
    "\n",
    "Elements in a list can be accessed via their **index** or position within the list. Remember that Python is 0-indexed, so the first element has an index of 0 nor 1.\n",
    "\n",
    "**slice notation** can also be used to access portions of lists\n",
    "\n",
    "### Unpacking Lists\n",
    "\n",
    "lists elements can be **unpacked** into individual variables."
   ]
  },
  {
   "cell_type": "code",
   "execution_count": 1,
   "id": "b44544fe-4847-46d1-a0f8-69c2a7a7a770",
   "metadata": {},
   "outputs": [],
   "source": [
    "# List Operations Demo"
   ]
  },
  {
   "cell_type": "code",
   "execution_count": 6,
   "id": "c655b4e6-c054-4f83-b0e5-3c6de00c7d94",
   "metadata": {},
   "outputs": [
    {
     "data": {
      "text/plain": [
       "['C00001', 'C00003', 'C00005', 'C00010']"
      ]
     },
     "execution_count": 6,
     "metadata": {},
     "output_type": "execute_result"
    }
   ],
   "source": [
    "customer = ['C00001','C00003','C00005','C00010']\n",
    "\n",
    "customer"
   ]
  },
  {
   "cell_type": "code",
   "execution_count": 8,
   "id": "3132b53c-78b4-4aaf-909b-5c042e4ae92e",
   "metadata": {},
   "outputs": [
    {
     "data": {
      "text/plain": [
       "False"
      ]
     },
     "execution_count": 8,
     "metadata": {},
     "output_type": "execute_result"
    }
   ],
   "source": [
    "'C00001' in customer\n",
    "'C00003' not in customer"
   ]
  },
  {
   "cell_type": "code",
   "execution_count": 14,
   "id": "80e944f5-44e2-4fe4-bee4-611c95356b97",
   "metadata": {},
   "outputs": [
    {
     "data": {
      "text/plain": [
       "5"
      ]
     },
     "execution_count": 14,
     "metadata": {},
     "output_type": "execute_result"
    }
   ],
   "source": [
    "int(customer[2][-5:])\n",
    "int(customer[2].strip('C'))"
   ]
  },
  {
   "cell_type": "code",
   "execution_count": 15,
   "id": "24db0a3d-2311-4174-81db-a87e743a9652",
   "metadata": {},
   "outputs": [
    {
     "data": {
      "text/plain": [
       "['C00001', 'C00003']"
      ]
     },
     "execution_count": 15,
     "metadata": {},
     "output_type": "execute_result"
    }
   ],
   "source": [
    "customer[:2]"
   ]
  },
  {
   "cell_type": "code",
   "execution_count": null,
   "id": "b4120bd9-1fed-4837-a759-60e5d9da434c",
   "metadata": {},
   "outputs": [],
   "source": []
  }
 ],
 "metadata": {
  "kernelspec": {
   "display_name": "Python [conda env:base] *",
   "language": "python",
   "name": "conda-base-py"
  },
  "language_info": {
   "codemirror_mode": {
    "name": "ipython",
    "version": 3
   },
   "file_extension": ".py",
   "mimetype": "text/x-python",
   "name": "python",
   "nbconvert_exporter": "python",
   "pygments_lexer": "ipython3",
   "version": "3.13.5"
  }
 },
 "nbformat": 4,
 "nbformat_minor": 5
}
