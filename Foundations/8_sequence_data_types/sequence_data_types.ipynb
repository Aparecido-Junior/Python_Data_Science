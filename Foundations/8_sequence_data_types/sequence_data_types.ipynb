{
 "cells": [
  {
   "cell_type": "markdown",
   "id": "ce5a2dd1-b35e-4204-af8d-f4979f0734ce",
   "metadata": {},
   "source": [
    "# Sequence Data Types\n",
    "\n",
    "**Topics covered**\n",
    "- List Basics\n",
    "- Modifying Lists\n",
    "- Nested Lists\n",
    "- List Operations\n",
    "- List Functions & Methods\n",
    "- Copying Lists\n",
    "- Tuples\n",
    "- Ranges\n",
    "\n",
    "**Goals for this section**\n",
    "1. Learn to create lists and modify elements\n",
    "2. Apply commom list functions and methods\n",
    "3. Understand the different medthods for copying lists\n",
    "4. Review the benefits of using tuples and ranges\n",
    "\n",
    "### Lists\n",
    "\n",
    "**Lists** are iterable data types capalbe of storing many individual elements. List elements can be any data type, and can add, change or removed at any time.\n",
    "\n",
    "`list = [,1, 'one', True]`\n",
    "\n",
    "### List Operations\n",
    "\n",
    "Since list are iterable data types, you can conduct **membership tests** on them\n",
    "\n",
    "Elements in a list can be accessed via their **index** or position within the list. Remember that Python is 0-indexed, so the first element has an index of 0 nor 1.\n",
    "\n",
    "**slice notation** can also be used to access portions of lists\n",
    "\n",
    "### Unpacking Lists\n",
    "\n",
    "lists elements can be **unpacked** into individual variables."
   ]
  },
  {
   "cell_type": "code",
   "execution_count": 1,
   "id": "b44544fe-4847-46d1-a0f8-69c2a7a7a770",
   "metadata": {},
   "outputs": [],
   "source": [
    "# List Operations Demo"
   ]
  },
  {
   "cell_type": "code",
   "execution_count": 6,
   "id": "c655b4e6-c054-4f83-b0e5-3c6de00c7d94",
   "metadata": {},
   "outputs": [
    {
     "data": {
      "text/plain": [
       "['C00001', 'C00003', 'C00005', 'C00010']"
      ]
     },
     "execution_count": 6,
     "metadata": {},
     "output_type": "execute_result"
    }
   ],
   "source": [
    "customer = ['C00001','C00003','C00005','C00010']\n",
    "\n",
    "customer"
   ]
  },
  {
   "cell_type": "code",
   "execution_count": 8,
   "id": "3132b53c-78b4-4aaf-909b-5c042e4ae92e",
   "metadata": {},
   "outputs": [
    {
     "data": {
      "text/plain": [
       "False"
      ]
     },
     "execution_count": 8,
     "metadata": {},
     "output_type": "execute_result"
    }
   ],
   "source": [
    "'C00001' in customer\n",
    "'C00003' not in customer"
   ]
  },
  {
   "cell_type": "code",
   "execution_count": 14,
   "id": "80e944f5-44e2-4fe4-bee4-611c95356b97",
   "metadata": {},
   "outputs": [
    {
     "data": {
      "text/plain": [
       "5"
      ]
     },
     "execution_count": 14,
     "metadata": {},
     "output_type": "execute_result"
    }
   ],
   "source": [
    "int(customer[2][-5:])\n",
    "int(customer[2].strip('C'))"
   ]
  },
  {
   "cell_type": "code",
   "execution_count": 15,
   "id": "24db0a3d-2311-4174-81db-a87e743a9652",
   "metadata": {},
   "outputs": [
    {
     "data": {
      "text/plain": [
       "['C00001', 'C00003']"
      ]
     },
     "execution_count": 15,
     "metadata": {},
     "output_type": "execute_result"
    }
   ],
   "source": [
    "customer[:2]"
   ]
  },
  {
   "cell_type": "markdown",
   "id": "3960e9fb-8e5b-45f8-be92-e53ca5a01661",
   "metadata": {},
   "source": [
    "### Chaging List Elements\n",
    "\n",
    "List elements can be **changed**, but not added, by using indexing\n",
    "\n",
    "### Adding list elements\n",
    "\n",
    "You can **.append()** or **.insert()** a new element to a list\n",
    "\n",
    "### Combining & Repeating list\n",
    "\n",
    "List can be **combined**, or concatednated, with `+` and **repeated** with `*`\n",
    "\n",
    "### Removing list elements\n",
    "\n",
    "There are two ways to **remove** lists elements\n",
    "\n",
    "- del `dell customer_list[2::]`\n",
    "- .remove()"
   ]
  },
  {
   "cell_type": "markdown",
   "id": "cdc23fc9-e0ce-4ce4-8b77-e7957fef102e",
   "metadata": {},
   "source": [
    "### Modifying List Demo"
   ]
  },
  {
   "cell_type": "code",
   "execution_count": 27,
   "id": "cabd362c-a7c0-404b-8409-179c6eb8fe2e",
   "metadata": {},
   "outputs": [
    {
     "data": {
      "text/plain": [
       "['C00001', 'C00003', 'C00005', 'C00010']"
      ]
     },
     "execution_count": 27,
     "metadata": {},
     "output_type": "execute_result"
    }
   ],
   "source": [
    "customer = ['C00001','C00003','C00005','C00010']\n",
    "\n",
    "customer"
   ]
  },
  {
   "cell_type": "code",
   "execution_count": 28,
   "id": "45a0449e-2bf8-4a6b-ba6a-770861721113",
   "metadata": {},
   "outputs": [
    {
     "data": {
      "text/plain": [
       "['C00001', 'C0004', 'C00005', 'C00010']"
      ]
     },
     "execution_count": 28,
     "metadata": {},
     "output_type": "execute_result"
    }
   ],
   "source": [
    "customer[1] = 'C0004'\n",
    "\n",
    "customer"
   ]
  },
  {
   "cell_type": "code",
   "execution_count": 20,
   "id": "8e3c852e-7633-43fc-90a7-074c3c146290",
   "metadata": {},
   "outputs": [],
   "source": [
    "#customer[4] = 'C00011' error cause the index is out of range"
   ]
  },
  {
   "cell_type": "code",
   "execution_count": 29,
   "id": "96e61025-4f18-4b86-a8fd-8ffed5653410",
   "metadata": {},
   "outputs": [
    {
     "data": {
      "text/plain": [
       "['C00001', 'C0004', 'C00005', 'C00010', 'C00011']"
      ]
     },
     "execution_count": 29,
     "metadata": {},
     "output_type": "execute_result"
    }
   ],
   "source": [
    "customer.append('C00011')\n",
    "\n",
    "customer"
   ]
  },
  {
   "cell_type": "code",
   "execution_count": 30,
   "id": "b0c9ae9c-0616-4448-8dd6-6e2391cf43de",
   "metadata": {},
   "outputs": [
    {
     "data": {
      "text/plain": [
       "['C00001', 'C00003', 'C0004', 'C00005', 'C00010', 'C00011']"
      ]
     },
     "execution_count": 30,
     "metadata": {},
     "output_type": "execute_result"
    }
   ],
   "source": [
    "customer.insert(1,'C00003')\n",
    "\n",
    "customer"
   ]
  },
  {
   "cell_type": "code",
   "execution_count": 31,
   "id": "58d5957d-4c06-40fe-8e26-5c6345738c3e",
   "metadata": {},
   "outputs": [],
   "source": [
    "new_customer = ['C00012','C00015',]"
   ]
  },
  {
   "cell_type": "code",
   "execution_count": 33,
   "id": "e928c56b-04ae-4ec0-a9b0-9d3449560b5e",
   "metadata": {},
   "outputs": [
    {
     "data": {
      "text/plain": [
       "['C00001', 'C00003', 'C0004', 'C00005', 'C00010', 'C00011', 'C00012', 'C00015']"
      ]
     },
     "execution_count": 33,
     "metadata": {},
     "output_type": "execute_result"
    }
   ],
   "source": [
    "all_customer = customer + new_customer\n",
    "\n",
    "all_customer"
   ]
  },
  {
   "cell_type": "code",
   "execution_count": 34,
   "id": "67e20407-daf8-4e68-9fc8-f71bcc70ec61",
   "metadata": {},
   "outputs": [
    {
     "data": {
      "text/plain": [
       "['C00001', 'C0004', 'C00005', 'C00010', 'C00011', 'C00012', 'C00015']"
      ]
     },
     "execution_count": 34,
     "metadata": {},
     "output_type": "execute_result"
    }
   ],
   "source": [
    "del all_customer[1]\n",
    "\n",
    "all_customer"
   ]
  },
  {
   "cell_type": "code",
   "execution_count": 35,
   "id": "be0cf372-35fa-4884-93a0-a24571b97cae",
   "metadata": {},
   "outputs": [
    {
     "data": {
      "text/plain": [
       "['C00001', 'C0004', 'C00010', 'C00011', 'C00012', 'C00015']"
      ]
     },
     "execution_count": 35,
     "metadata": {},
     "output_type": "execute_result"
    }
   ],
   "source": [
    "if 'C00001' in all_customer:\n",
    "    all_customer.remove('C00005')\n",
    "\n",
    "all_customer"
   ]
  },
  {
   "cell_type": "markdown",
   "id": "a8acba3b-ce9c-4e15-aa46-d197b931ed7a",
   "metadata": {},
   "source": [
    "### List Functions\n",
    "\n",
    "- Len()\n",
    "- sum()\n",
    "- min()\n",
    "- max()\n",
    "\n",
    "#### Sorting List\n",
    "\n",
    "There are two ways to **sort** list elements:\n",
    "1. **.sort()** Permanently\n",
    "2. **sorted()** Do not change the original\n",
    "\n",
    "### List Methods\n",
    "\n",
    "- .index(value)\n",
    "- .count()\n",
    "- .reverse()"
   ]
  },
  {
   "cell_type": "markdown",
   "id": "2d41c04a-db08-48e0-9f8a-7d664cb3272c",
   "metadata": {},
   "source": [
    "### List Methods and Functions Demo"
   ]
  },
  {
   "cell_type": "code",
   "execution_count": 4,
   "id": "8d4dfe5c-ac4a-4bb7-a42a-6d77f4c17278",
   "metadata": {},
   "outputs": [
    {
     "data": {
      "text/plain": [
       "['C00001', 'C00004', 'C00010', 'C00004', 'C00011', 'C00004']"
      ]
     },
     "execution_count": 4,
     "metadata": {},
     "output_type": "execute_result"
    }
   ],
   "source": [
    "customer = ['C00001', 'C00004', 'C00010', 'C00004', 'C00011', 'C00004']\n",
    "\n",
    "customer"
   ]
  },
  {
   "cell_type": "code",
   "execution_count": 40,
   "id": "95d3c9b8-f96a-4ada-b4a8-cc544fb23921",
   "metadata": {},
   "outputs": [
    {
     "data": {
      "text/plain": [
       "3"
      ]
     },
     "execution_count": 40,
     "metadata": {},
     "output_type": "execute_result"
    }
   ],
   "source": [
    "customer.count('C00004')"
   ]
  },
  {
   "cell_type": "code",
   "execution_count": 41,
   "id": "127226b0-06a3-4a00-839f-cece8fe30f93",
   "metadata": {},
   "outputs": [
    {
     "data": {
      "text/plain": [
       "6"
      ]
     },
     "execution_count": 41,
     "metadata": {},
     "output_type": "execute_result"
    }
   ],
   "source": [
    "len(customer)"
   ]
  },
  {
   "cell_type": "code",
   "execution_count": 42,
   "id": "2f508f18-57a0-4292-a28e-f64cb80d6249",
   "metadata": {},
   "outputs": [
    {
     "data": {
      "text/plain": [
       "0.5"
      ]
     },
     "execution_count": 42,
     "metadata": {},
     "output_type": "execute_result"
    }
   ],
   "source": [
    "customer.count('C00004') / len(customer)"
   ]
  },
  {
   "cell_type": "code",
   "execution_count": 6,
   "id": "0fe8bf79-81e7-4c4b-afe0-080c1b6de699",
   "metadata": {},
   "outputs": [
    {
     "data": {
      "text/plain": [
       "[]"
      ]
     },
     "execution_count": 6,
     "metadata": {},
     "output_type": "execute_result"
    }
   ],
   "source": [
    "vip_customer = []\n",
    "customer_id = 'C00011'\n",
    "\n",
    "if customer.count(customer_id) / len(customer) > .2:\n",
    "    vip_customer.append(customer_id)\n",
    "\n",
    "vip_customer"
   ]
  },
  {
   "cell_type": "code",
   "execution_count": 48,
   "id": "a197b12c-a736-4c9b-8857-288c757a325a",
   "metadata": {},
   "outputs": [
    {
     "data": {
      "text/plain": [
       "['C00001', 'C00004', 'C00004', 'C00004', 'C00010', 'C00011']"
      ]
     },
     "execution_count": 48,
     "metadata": {},
     "output_type": "execute_result"
    }
   ],
   "source": [
    "customer.sort()\n",
    "\n",
    "customer"
   ]
  },
  {
   "cell_type": "code",
   "execution_count": 51,
   "id": "77cb5924-d562-46e9-ac05-0b6bd5d0116d",
   "metadata": {},
   "outputs": [
    {
     "data": {
      "text/plain": [
       "['C00011', 'C00010', 'C00004', 'C00004', 'C00004', 'C00001']"
      ]
     },
     "execution_count": 51,
     "metadata": {},
     "output_type": "execute_result"
    }
   ],
   "source": [
    "customer.reverse()\n",
    "\n",
    "customer"
   ]
  },
  {
   "cell_type": "code",
   "execution_count": 54,
   "id": "566687bf-0c17-4c90-b8e3-67ab167be0c8",
   "metadata": {},
   "outputs": [
    {
     "name": "stdout",
     "output_type": "stream",
     "text": [
      "Enjoy a 10% discount today!\n"
     ]
    }
   ],
   "source": [
    "if customer.index(customer_id) < 2:\n",
    "    print('Enjoy a 10% discount today!')"
   ]
  },
  {
   "cell_type": "code",
   "execution_count": 8,
   "id": "97a98983-131a-4427-a750-4d6a5fd92c6c",
   "metadata": {},
   "outputs": [
    {
     "name": "stdout",
     "output_type": "stream",
     "text": [
      "['C00001', 'C00004', 'C00004', 'C00004', 'C00010', 'C00011']\n",
      "['C00001', 'C00004', 'C00010', 'C00004', 'C00011', 'C00004']\n"
     ]
    }
   ],
   "source": [
    "new_list = sorted(customer)\n",
    "\n",
    "print(new_list)\n",
    "\n",
    "print(customer)"
   ]
  },
  {
   "cell_type": "markdown",
   "id": "ac030d66-2ab2-4f71-986c-9831ec84aff6",
   "metadata": {},
   "source": [
    "### Nested List\n",
    "\n",
    "List sotred as elements of another list are known as **nested lists**\n",
    "\n",
    "List **methods** & **functions** still work with nested lists"
   ]
  },
  {
   "cell_type": "code",
   "execution_count": 11,
   "id": "3eadcde4-6307-4f28-bf0d-aefa610e0027",
   "metadata": {},
   "outputs": [],
   "source": [
    "# Nested lists and copying demo"
   ]
  },
  {
   "cell_type": "code",
   "execution_count": 15,
   "id": "56f763d0-2161-4121-91c7-6a3d722e8232",
   "metadata": {},
   "outputs": [],
   "source": [
    "items = ['skis','snowboard','goggles','boots']\n",
    "\n",
    "item_details = [[5, 249.99], [0,219.99], [0, 99.99], [12, 9.99]]"
   ]
  },
  {
   "cell_type": "code",
   "execution_count": 17,
   "id": "af432515-68d1-4719-956b-cf874d8cfd31",
   "metadata": {},
   "outputs": [
    {
     "data": {
      "text/plain": [
       "[0, 219.99]"
      ]
     },
     "execution_count": 17,
     "metadata": {},
     "output_type": "execute_result"
    }
   ],
   "source": [
    "item_details[1]"
   ]
  },
  {
   "cell_type": "code",
   "execution_count": 19,
   "id": "a4b6dc7d-8caf-4d3f-ac67-04c9b4636e69",
   "metadata": {},
   "outputs": [
    {
     "data": {
      "text/plain": [
       "219.99"
      ]
     },
     "execution_count": 19,
     "metadata": {},
     "output_type": "execute_result"
    }
   ],
   "source": [
    "item_details[1][1]"
   ]
  },
  {
   "cell_type": "code",
   "execution_count": 21,
   "id": "9c9f7080-6b50-4a02-9a6a-deb1fe904e88",
   "metadata": {},
   "outputs": [
    {
     "data": {
      "text/plain": [
       "274.99"
      ]
     },
     "execution_count": 21,
     "metadata": {},
     "output_type": "execute_result"
    }
   ],
   "source": [
    "round(item_details[0][1] * 1.1, 2)"
   ]
  },
  {
   "cell_type": "code",
   "execution_count": 29,
   "id": "2bef98a0-d1cd-4c06-8a8b-f763956e0125",
   "metadata": {},
   "outputs": [
    {
     "data": {
      "text/plain": [
       "[[5, 249.99], [0, 219.99], [0, 99.99], [12, 9.99]]"
      ]
     },
     "execution_count": 29,
     "metadata": {},
     "output_type": "execute_result"
    }
   ],
   "source": [
    "winter_details = item_details.copy()\n",
    "\n",
    "winter_details"
   ]
  },
  {
   "cell_type": "code",
   "execution_count": 31,
   "id": "95950d58-fda4-488b-9bce-89e62eedbf9b",
   "metadata": {},
   "outputs": [],
   "source": [
    "winter_details[0] = [100, 274.99]"
   ]
  },
  {
   "cell_type": "code",
   "execution_count": 33,
   "id": "18d5ada1-b08e-48ba-9a65-7cdbd354daad",
   "metadata": {},
   "outputs": [
    {
     "name": "stdout",
     "output_type": "stream",
     "text": [
      "[[100, 274.99], [0, 219.99], [0, 99.99], [12, 9.99]]\n",
      "[[5, 249.99], [0, 219.99], [0, 99.99], [12, 9.99]]\n"
     ]
    }
   ],
   "source": [
    "print(winter_details)\n",
    "\n",
    "print(item_details)"
   ]
  },
  {
   "cell_type": "code",
   "execution_count": 39,
   "id": "f22d985e-569c-49d0-9552-d86467c18120",
   "metadata": {},
   "outputs": [
    {
     "name": "stdout",
     "output_type": "stream",
     "text": [
      "[[100, 274.99], [0, 219.99], [0, 50], [12, 9.99]]\n",
      "[[5, 249.99], [0, 219.99], [0, 50], [12, 9.99]]\n"
     ]
    }
   ],
   "source": [
    "winter_details[2][1] = 50\n",
    "\n",
    "print(winter_details)\n",
    "\n",
    "print(item_details)"
   ]
  },
  {
   "cell_type": "code",
   "execution_count": 43,
   "id": "952be6b0-9b59-423e-9df6-edf30b688015",
   "metadata": {},
   "outputs": [],
   "source": [
    "from copy import deepcopy"
   ]
  },
  {
   "cell_type": "code",
   "execution_count": 45,
   "id": "a5e5b37f-b346-4e16-b2bb-731cecf1efdf",
   "metadata": {},
   "outputs": [],
   "source": [
    "item_details = [[5, 249.99], [0,219.99], [0, 99.99], [12, 9.99]]"
   ]
  },
  {
   "cell_type": "code",
   "execution_count": 47,
   "id": "2cbb8fd8-d74d-4876-9713-46209da0a2e9",
   "metadata": {},
   "outputs": [
    {
     "data": {
      "text/plain": [
       "[[5, 249.99], [0, 219.99], [0, 99.99], [12, 9.99]]"
      ]
     },
     "execution_count": 47,
     "metadata": {},
     "output_type": "execute_result"
    }
   ],
   "source": [
    "winter_details = deepcopy(item_details)\n",
    "\n",
    "winter_details"
   ]
  },
  {
   "cell_type": "code",
   "execution_count": 51,
   "id": "9c45bae3-6a80-4e09-8ba2-c24915d58aa4",
   "metadata": {},
   "outputs": [
    {
     "data": {
      "text/plain": [
       "[[100, 274.99], [0, 219.99], [0, 99.99], [12, 9.99]]"
      ]
     },
     "execution_count": 51,
     "metadata": {},
     "output_type": "execute_result"
    }
   ],
   "source": [
    "winter_details[0] = [100, 274.99]\n",
    "\n",
    "winter_details"
   ]
  },
  {
   "cell_type": "code",
   "execution_count": 53,
   "id": "fdd06fec-9bc5-4f49-880e-bb35b1fa48fa",
   "metadata": {},
   "outputs": [
    {
     "data": {
      "text/plain": [
       "[[5, 249.99], [0, 219.99], [0, 99.99], [12, 9.99]]"
      ]
     },
     "execution_count": 53,
     "metadata": {},
     "output_type": "execute_result"
    }
   ],
   "source": [
    "item_details"
   ]
  },
  {
   "cell_type": "code",
   "execution_count": 55,
   "id": "bda6bf03-4f01-48b7-bbda-fd1e222ee02e",
   "metadata": {},
   "outputs": [
    {
     "name": "stdout",
     "output_type": "stream",
     "text": [
      "[[100, 274.99], [50, 219.99], [0, 99.99], [12, 9.99]]\n",
      "[[5, 249.99], [0, 219.99], [0, 99.99], [12, 9.99]]\n"
     ]
    }
   ],
   "source": [
    "winter_details[1][0] = 50\n",
    "\n",
    "print(winter_details)\n",
    "print(item_details)"
   ]
  },
  {
   "cell_type": "markdown",
   "id": "979cbe51-ea3b-4ae3-a13a-26604ba5fdd0",
   "metadata": {},
   "source": [
    "### Tuples\n",
    "\n",
    "Tuples are iterable data types capable of storing man individual items\n",
    "- Tuple are very similar to lists, exept they are immutable.\n",
    "- Tuple items can still be any data type, but they cannot be added, changed or removed once the tuple is created.\n",
    "\n",
    "1. Tuples require less memory than a list\n",
    "2. Operations execute quicker on tuple than on lists\n",
    "3. Tuples reduce user error by preventing odification to data"
   ]
  },
  {
   "cell_type": "code",
   "execution_count": 60,
   "id": "92cb41ec-d4b9-4539-8958-01567a02285d",
   "metadata": {},
   "outputs": [],
   "source": [
    "# Tuples Demo"
   ]
  },
  {
   "cell_type": "code",
   "execution_count": 72,
   "id": "d22e903f-0166-4f7a-8773-2ae12e324c43",
   "metadata": {},
   "outputs": [],
   "source": [
    "price_tuple = ('$3.50','$99.99','&149.99')"
   ]
  },
  {
   "cell_type": "code",
   "execution_count": 64,
   "id": "096ff1ce-da7e-4762-b38e-931b1668de75",
   "metadata": {},
   "outputs": [
    {
     "data": {
      "text/plain": [
       "'3.50'"
      ]
     },
     "execution_count": 64,
     "metadata": {},
     "output_type": "execute_result"
    }
   ],
   "source": [
    "price_tuple[0]"
   ]
  },
  {
   "cell_type": "code",
   "execution_count": 66,
   "id": "f7e229ba-024a-4f0d-965e-70e377359272",
   "metadata": {},
   "outputs": [
    {
     "data": {
      "text/plain": [
       "('$99.99', '&149.99')"
      ]
     },
     "execution_count": 66,
     "metadata": {},
     "output_type": "execute_result"
    }
   ],
   "source": [
    "price_tuple[1:]"
   ]
  },
  {
   "cell_type": "code",
   "execution_count": 74,
   "id": "f40dafc1-5e31-419c-b1bf-a1d496b362d7",
   "metadata": {},
   "outputs": [
    {
     "data": {
      "text/plain": [
       "True"
      ]
     },
     "execution_count": 74,
     "metadata": {},
     "output_type": "execute_result"
    }
   ],
   "source": [
    "'$3.50' in price_tuple"
   ]
  },
  {
   "cell_type": "code",
   "execution_count": 76,
   "id": "e83795ea-6c72-48b8-bdd3-99c6d78a0f2a",
   "metadata": {},
   "outputs": [
    {
     "data": {
      "text/plain": [
       "['$3.50', '$99.99', '&149.99']"
      ]
     },
     "execution_count": 76,
     "metadata": {},
     "output_type": "execute_result"
    }
   ],
   "source": [
    "list(price_tuple)"
   ]
  },
  {
   "cell_type": "code",
   "execution_count": 78,
   "id": "913a8fe0-d2b4-420a-ba41-d61bcac3c4d1",
   "metadata": {},
   "outputs": [],
   "source": [
    "price1, price2, price3 = price_tuple"
   ]
  },
  {
   "cell_type": "code",
   "execution_count": 80,
   "id": "656c01d9-575e-453b-acc7-4ad2c7b7f5f7",
   "metadata": {},
   "outputs": [
    {
     "data": {
      "text/plain": [
       "('$3.50', '$99.99', '&149.99')"
      ]
     },
     "execution_count": 80,
     "metadata": {},
     "output_type": "execute_result"
    }
   ],
   "source": [
    "price1, price2, price3"
   ]
  },
  {
   "cell_type": "code",
   "execution_count": 86,
   "id": "2e375552-eb30-4314-8150-74e6333da851",
   "metadata": {},
   "outputs": [
    {
     "data": {
      "text/plain": [
       "253.48"
      ]
     },
     "execution_count": 86,
     "metadata": {},
     "output_type": "execute_result"
    }
   ],
   "source": [
    "round(float(price1.strip('$')) + float(price2.strip('$')) + float(price3.strip('&')),2)"
   ]
  },
  {
   "cell_type": "markdown",
   "id": "dbb780d7-8db1-44f0-8124-3518783ac98c",
   "metadata": {},
   "source": [
    "### Ranges\n",
    "\n",
    "Ranges are sequances of integers generated by a given start, stop and step size.\n",
    "- They are efficient\n",
    "- They save time\n",
    "- They are commonly used with loops"
   ]
  },
  {
   "cell_type": "code",
   "execution_count": 90,
   "id": "89a6c052-0f7e-49db-82cd-f9b181b396de",
   "metadata": {},
   "outputs": [],
   "source": [
    "# Range demo"
   ]
  },
  {
   "cell_type": "code",
   "execution_count": 92,
   "id": "1b5cb949-46c9-45fa-b287-d43157608f31",
   "metadata": {},
   "outputs": [
    {
     "data": {
      "text/plain": [
       "range(0, 100, 10)"
      ]
     },
     "execution_count": 92,
     "metadata": {},
     "output_type": "execute_result"
    }
   ],
   "source": [
    "range(0, 100, 10)"
   ]
  },
  {
   "cell_type": "code",
   "execution_count": 94,
   "id": "747d5317-6f02-4184-a036-6a3b5b15e1db",
   "metadata": {},
   "outputs": [
    {
     "data": {
      "text/plain": [
       "50"
      ]
     },
     "execution_count": 94,
     "metadata": {},
     "output_type": "execute_result"
    }
   ],
   "source": [
    "range(0, 100, 10)[5]"
   ]
  },
  {
   "cell_type": "code",
   "execution_count": 98,
   "id": "3dd9ac49-30af-4dc2-901f-7a4ab1156869",
   "metadata": {},
   "outputs": [
    {
     "data": {
      "text/plain": [
       "[0, 10, 20, 30, 40, 50, 60, 70, 80, 90, 100]"
      ]
     },
     "execution_count": 98,
     "metadata": {},
     "output_type": "execute_result"
    }
   ],
   "source": [
    "list(range(0, 101, 10))"
   ]
  },
  {
   "cell_type": "code",
   "execution_count": null,
   "id": "061acd06-b075-4ca6-908a-a5cb8f475f99",
   "metadata": {},
   "outputs": [],
   "source": []
  }
 ],
 "metadata": {
  "kernelspec": {
   "display_name": "Python [conda env:base] *",
   "language": "python",
   "name": "conda-base-py"
  },
  "language_info": {
   "codemirror_mode": {
    "name": "ipython",
    "version": 3
   },
   "file_extension": ".py",
   "mimetype": "text/x-python",
   "name": "python",
   "nbconvert_exporter": "python",
   "pygments_lexer": "ipython3",
   "version": "3.12.7"
  }
 },
 "nbformat": 4,
 "nbformat_minor": 5
}
