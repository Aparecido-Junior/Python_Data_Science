{
 "cells": [
  {
   "cell_type": "markdown",
   "id": "5587c7a2-55f8-4e6b-9819-841eaf4ad1e0",
   "metadata": {},
   "source": [
    "# Numeric Data Types\n",
    "\n",
    "**Integer**(int) - real whole numbers\n",
    "\n",
    "**float**(float) - real decimal numbers\n"
   ]
  },
  {
   "cell_type": "markdown",
   "id": "e853143c-6744-44bf-8c38-1e279e4bf30b",
   "metadata": {},
   "source": [
    "## Numeric type convertion\n",
    "\n",
    "Converting float into integer\n",
    "`number = 1.99`\n",
    "\n",
    "`fixed_number = int(number)`\n",
    "\n",
    "`fixed_number, type(fixed_number)`\n",
    "\n",
    "Converting integer into float\n",
    "\n",
    "`number = 1`\n",
    "\n",
    "`fixed_number = float(number)`\n",
    "\n",
    "`fixed_number, type(fixed_number)`\n",
    "\n",
    "Even string\n",
    "\n",
    "`text = '123'`\n",
    "\n",
    "`fixed_number = int(text)`\n",
    "\n",
    "`fixed_number, type(fixed_number)`"
   ]
  },
  {
   "cell_type": "markdown",
   "id": "2d2f8e61-28ce-4c78-9053-fc01e0c9eefc",
   "metadata": {},
   "source": [
    "## Arithmetic operators\n",
    "\n",
    "**(+)** adds two or more values.\n",
    "\n",
    "**(-)** subtracs one value per other.\n",
    "\n",
    "**(*)** Multiple two values.\n",
    "\n",
    "**(/)** Diveds one value per other.\n",
    "\n",
    "**(//)** Diveds one value per other, then rounds down to the nearst integer.\n",
    "\n",
    "**(%)** Returns the remainder of a division.\n",
    "\n",
    "**( ** )** Raise one value to the power of the other.\n",
    "\n",
    "## Other of operators\n",
    "\n",
    "1. Parentheses.\n",
    "2. Exponentes.\n",
    "3. Multiplication & Division, from left to right.\n",
    "4. Addition & subtraction, from left to right."
   ]
  },
  {
   "cell_type": "markdown",
   "id": "9cb4e526-8d1a-4c93-920d-bf64504cdac9",
   "metadata": {},
   "source": [
    "### Demo"
   ]
  },
  {
   "cell_type": "code",
   "execution_count": null,
   "id": "ae37eb99-3404-4d34-b20c-a09461a92444",
   "metadata": {},
   "outputs": [],
   "source": [
    "my_string = '3579'\n",
    "my_float = 3.579\n",
    "my_inter = 3    "
   ]
  },
  {
   "cell_type": "code",
   "execution_count": null,
   "id": "ad86f32f-e0db-40a6-bac1-142a521057c3",
   "metadata": {},
   "outputs": [],
   "source": [
    "int(my_string)"
   ]
  },
  {
   "cell_type": "code",
   "execution_count": null,
   "id": "f2585299-d95c-49fb-b190-b6e4c5205d2e",
   "metadata": {},
   "outputs": [],
   "source": [
    "int(my_float)"
   ]
  },
  {
   "cell_type": "code",
   "execution_count": null,
   "id": "473069bc-80ca-4657-8c18-0a66bb9c79a7",
   "metadata": {},
   "outputs": [],
   "source": [
    "float(my_string)"
   ]
  },
  {
   "cell_type": "code",
   "execution_count": null,
   "id": "c0b1f6fb-9c0e-4e0d-8271-7bb56558a018",
   "metadata": {},
   "outputs": [],
   "source": [
    "float(my_inter)"
   ]
  },
  {
   "cell_type": "markdown",
   "id": "a6ee56d7-e966-4ae0-8fa0-f2620e5774c3",
   "metadata": {},
   "source": [
    "### Operations"
   ]
  },
  {
   "cell_type": "code",
   "execution_count": null,
   "id": "7138639b-a429-4786-8c16-07dc0ff4c2a3",
   "metadata": {},
   "outputs": [],
   "source": [
    "# \n",
    "my_inter + my_float"
   ]
  },
  {
   "cell_type": "code",
   "execution_count": null,
   "id": "0b43ee3d-d8bd-4c35-99ad-c5bcbe6017c9",
   "metadata": {},
   "outputs": [],
   "source": [
    "my_inter - my_float"
   ]
  },
  {
   "cell_type": "code",
   "execution_count": null,
   "id": "e40da8f4-1538-4230-9757-b19454c19d8d",
   "metadata": {},
   "outputs": [],
   "source": [
    "my_float - my_inter"
   ]
  },
  {
   "cell_type": "code",
   "execution_count": null,
   "id": "0bc5268d-7040-464e-8bfe-501f6b333a3d",
   "metadata": {},
   "outputs": [],
   "source": [
    "my_inter * my_float"
   ]
  },
  {
   "cell_type": "code",
   "execution_count": null,
   "id": "283c8bd1-5e11-4f42-922e-91902d3d2d40",
   "metadata": {},
   "outputs": [],
   "source": [
    "my_inter / my_float"
   ]
  },
  {
   "cell_type": "code",
   "execution_count": null,
   "id": "67f1c747-193e-4da9-91b6-d5aff60fb39b",
   "metadata": {},
   "outputs": [],
   "source": [
    "my_inter // my_float"
   ]
  },
  {
   "cell_type": "code",
   "execution_count": null,
   "id": "4d057cba-acff-4bd1-a957-eedef9976ca3",
   "metadata": {},
   "outputs": [],
   "source": [
    "my_inter % my_float"
   ]
  },
  {
   "cell_type": "code",
   "execution_count": null,
   "id": "fe69e9e7-fce9-4a12-a257-3edf39cee9c3",
   "metadata": {},
   "outputs": [],
   "source": [
    "my_inter**my_float"
   ]
  },
  {
   "cell_type": "markdown",
   "id": "d861d41d-8904-443d-8d72-5911037c86e9",
   "metadata": {},
   "source": [
    "### Order of operations"
   ]
  },
  {
   "cell_type": "code",
   "execution_count": null,
   "id": "8f18bab1-099f-463a-9125-045f9bf1d7e0",
   "metadata": {},
   "outputs": [],
   "source": [
    "10 * 6 - 3**2"
   ]
  },
  {
   "cell_type": "code",
   "execution_count": null,
   "id": "0ed9e63c-110e-4a23-b984-1c723a7c3805",
   "metadata": {},
   "outputs": [],
   "source": [
    "10 * (6 - 3)**2"
   ]
  },
  {
   "cell_type": "markdown",
   "id": "959d54c9-10de-4311-8de5-ee642dd0754e",
   "metadata": {},
   "source": [
    "## Numeric Functions\n",
    "\n",
    "Single numeric functions:\n",
    "- round()\n",
    "- abs()\n",
    "\n",
    "Multiple numeric functions:\n",
    "- sum()\n",
    "- min()\n",
    "- max()"
   ]
  },
  {
   "cell_type": "code",
   "execution_count": 1,
   "id": "52075bc5-b1e8-44f0-9186-6e36d779103e",
   "metadata": {},
   "outputs": [],
   "source": [
    "number = 3.579"
   ]
  },
  {
   "cell_type": "code",
   "execution_count": 3,
   "id": "258dbddd-9f8c-4c15-a8e9-7f42111f91c7",
   "metadata": {},
   "outputs": [
    {
     "data": {
      "text/plain": [
       "3.6"
      ]
     },
     "execution_count": 3,
     "metadata": {},
     "output_type": "execute_result"
    }
   ],
   "source": [
    "round(number)\n",
    "round(number,2)\n",
    "round(number,1)"
   ]
  },
  {
   "cell_type": "code",
   "execution_count": 4,
   "id": "1c3575bd-3a5e-4ffa-b956-67a38b85bc61",
   "metadata": {},
   "outputs": [],
   "source": [
    "number = -3.579"
   ]
  },
  {
   "cell_type": "code",
   "execution_count": 5,
   "id": "c272ac3b-e10b-4a1c-8a26-474484b8e62e",
   "metadata": {},
   "outputs": [
    {
     "data": {
      "text/plain": [
       "3.579"
      ]
     },
     "execution_count": 5,
     "metadata": {},
     "output_type": "execute_result"
    }
   ],
   "source": [
    "abs(number)"
   ]
  },
  {
   "cell_type": "code",
   "execution_count": 6,
   "id": "b975bffe-108f-4409-ac4e-f13c0bd5e19d",
   "metadata": {},
   "outputs": [
    {
     "data": {
      "text/plain": [
       "15"
      ]
     },
     "execution_count": 6,
     "metadata": {},
     "output_type": "execute_result"
    }
   ],
   "source": [
    "max(5,10,15)"
   ]
  },
  {
   "cell_type": "code",
   "execution_count": 7,
   "id": "96beb6fe-3153-49f0-b8d0-dadeb5c3c05b",
   "metadata": {},
   "outputs": [],
   "source": [
    "golf_score = [-3, 0, 2, 30]"
   ]
  },
  {
   "cell_type": "code",
   "execution_count": 12,
   "id": "64daa93b-6f06-49cb-974f-4b6a265284bb",
   "metadata": {},
   "outputs": [
    {
     "data": {
      "text/plain": [
       "32"
      ]
     },
     "execution_count": 12,
     "metadata": {},
     "output_type": "execute_result"
    }
   ],
   "source": [
    "max(golf_score)\n",
    "min(golf_score)\n",
    "sum(golf_score)\n",
    "sum(golf_score, 3)"
   ]
  },
  {
   "cell_type": "code",
   "execution_count": null,
   "id": "7879810d-f5e4-45a8-a8b3-2aea15989040",
   "metadata": {},
   "outputs": [],
   "source": []
  }
 ],
 "metadata": {
  "kernelspec": {
   "display_name": "Python [conda env:base] *",
   "language": "python",
   "name": "conda-base-py"
  },
  "language_info": {
   "codemirror_mode": {
    "name": "ipython",
    "version": 3
   },
   "file_extension": ".py",
   "mimetype": "text/x-python",
   "name": "python",
   "nbconvert_exporter": "python",
   "pygments_lexer": "ipython3",
   "version": "3.13.5"
  }
 },
 "nbformat": 4,
 "nbformat_minor": 5
}
