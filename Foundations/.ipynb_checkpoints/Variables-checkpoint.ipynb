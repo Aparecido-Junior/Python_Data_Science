{
 "cells": [
  {
   "cell_type": "markdown",
   "id": "d0e9d613-84b8-464b-b536-799950558074",
   "metadata": {},
   "source": [
    "# Variables\n",
    "\n",
    "## Variable assingment\n",
    "\n",
    "`variable_name = value`\n",
    "on the left side the name of the variable while on the right the value assigned to the variable.\n",
    "\n",
    "`price = 5`\n",
    "\n",
    "`print(price) =  5`\n",
    "\n",
    "`print(price + 1) = 6`"
   ]
  },
  {
   "cell_type": "code",
   "execution_count": 7,
   "id": "b5d5efc8-09d3-4015-9017-1e2380de4c70",
   "metadata": {},
   "outputs": [],
   "source": [
    "price = 5"
   ]
  },
  {
   "cell_type": "code",
   "execution_count": 11,
   "id": "e45aeba0-3a6c-48f7-beb7-b8929363c739",
   "metadata": {},
   "outputs": [
    {
     "data": {
      "text/plain": [
       "5"
      ]
     },
     "execution_count": 11,
     "metadata": {},
     "output_type": "execute_result"
    }
   ],
   "source": [
    "price"
   ]
  },
  {
   "cell_type": "code",
   "execution_count": 13,
   "id": "a2d63e58-8036-4035-bdc5-a1f48e40752d",
   "metadata": {},
   "outputs": [
    {
     "name": "stdout",
     "output_type": "stream",
     "text": [
      "5\n"
     ]
    }
   ],
   "source": [
    "print(price)"
   ]
  },
  {
   "cell_type": "code",
   "execution_count": 15,
   "id": "6e5bf2a4-9d3e-4a8c-ba56-08d6d2cbec64",
   "metadata": {},
   "outputs": [
    {
     "data": {
      "text/plain": [
       "6"
      ]
     },
     "execution_count": 15,
     "metadata": {},
     "output_type": "execute_result"
    }
   ],
   "source": [
    "price + 1"
   ]
  },
  {
   "cell_type": "code",
   "execution_count": 17,
   "id": "e443c158-d639-4b98-887e-a21cfa240382",
   "metadata": {},
   "outputs": [],
   "source": [
    "tax = 1"
   ]
  },
  {
   "cell_type": "code",
   "execution_count": 19,
   "id": "884ca480-2b5b-41e0-ac87-c102b1eb56d3",
   "metadata": {},
   "outputs": [
    {
     "name": "stdout",
     "output_type": "stream",
     "text": [
      "6\n"
     ]
    }
   ],
   "source": [
    "print(price + tax)"
   ]
  },
  {
   "cell_type": "code",
   "execution_count": 31,
   "id": "8ace8f9e-4827-404b-9f8d-ca163e079e2b",
   "metadata": {},
   "outputs": [],
   "source": [
    "product_name = \"skis\""
   ]
  },
  {
   "cell_type": "code",
   "execution_count": 35,
   "id": "b790b018-8647-4535-83e0-ea0ffb8eb335",
   "metadata": {},
   "outputs": [
    {
     "name": "stdout",
     "output_type": "stream",
     "text": [
      "skis\n"
     ]
    }
   ],
   "source": [
    "print(product_name)"
   ]
  },
  {
   "cell_type": "code",
   "execution_count": 39,
   "id": "d72af3c2-af7e-4ea5-a230-1fcc34fa10a4",
   "metadata": {},
   "outputs": [
    {
     "data": {
      "text/plain": [
       "list"
      ]
     },
     "execution_count": 39,
     "metadata": {},
     "output_type": "execute_result"
    }
   ],
   "source": [
    "price_list = [2.50, 4.99, 10, None, 'Discount']\n",
    "\n",
    "price_list_type = type(price_list)# even built in fuction can be assinged to variables\n",
    "\n",
    "price_list_type"
   ]
  },
  {
   "cell_type": "code",
   "execution_count": null,
   "id": "f1324389-ccad-451c-a7cb-3135ccee8b29",
   "metadata": {},
   "outputs": [],
   "source": []
  }
 ],
 "metadata": {
  "kernelspec": {
   "display_name": "Python [conda env:base] *",
   "language": "python",
   "name": "conda-base-py"
  },
  "language_info": {
   "codemirror_mode": {
    "name": "ipython",
    "version": 3
   },
   "file_extension": ".py",
   "mimetype": "text/x-python",
   "name": "python",
   "nbconvert_exporter": "python",
   "pygments_lexer": "ipython3",
   "version": "3.12.7"
  }
 },
 "nbformat": 4,
 "nbformat_minor": 5
}
