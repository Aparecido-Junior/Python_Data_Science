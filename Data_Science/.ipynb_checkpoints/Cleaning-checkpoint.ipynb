{
 "cells": [
  {
   "cell_type": "code",
   "execution_count": 39,
   "id": "9e34a7d9-9cb2-4ce4-96c7-2cc793044fcf",
   "metadata": {},
   "outputs": [],
   "source": [
    "import pandas as pd\n",
    "import numpy as np\n",
    "\n",
    "pd.set_option('display.expand_frame_repr', False)"
   ]
  },
  {
   "cell_type": "markdown",
   "id": "43e4a7aa-2b7d-4cb6-a3e2-2c68d90b92fd",
   "metadata": {},
   "source": [
    "## Exploring data frame "
   ]
  },
  {
   "cell_type": "code",
   "execution_count": 63,
   "id": "9951d0ba-0770-40be-b79b-db699f5fe0e4",
   "metadata": {},
   "outputs": [
    {
     "name": "stdout",
     "output_type": "stream",
     "text": [
      "     Name  Run Time Warm Up Time   Location            Run Date  Race Date   Rain    Fee\n",
      "0  Alexis    9.2343          3.5   “school” 2023-04-15 12:00:00 2023-06-01  False  $0.00\n",
      "1  Alexis   10.3842          3.5     School 2023-04-22 12:30:00 2023-06-01   True  $0.00\n",
      "2  Alexis    8.1209        3 min  “the gym” 2023-05-10 15:00:00 2023-06-01  False  $2.50\n",
      "3   David    7.2123          2.2   “school” 2023-05-01 15:15:00 2023-06-15  False  $0.00\n",
      "4   David    6.8342            2      “gym” 2023-05-10 16:30:00 2023-06-15  False  $2.50\n"
     ]
    }
   ],
   "source": [
    "# Open the xlxs file by travelling to its directory\n",
    "df = pd.read_excel('../../../Python/Data_Science/Data/Run Times.xlsx')\n",
    "print(df)"
   ]
  },
  {
   "cell_type": "code",
   "execution_count": 65,
   "id": "6e341016-86e5-4f56-a4b6-efb128677db6",
   "metadata": {},
   "outputs": [
    {
     "name": "stdout",
     "output_type": "stream",
     "text": [
      "The data types for this df are:\n",
      "Name                    object\n",
      "Run Time               float64\n",
      "Warm Up Time            object\n",
      "Location                object\n",
      "Run Date        datetime64[ns]\n",
      "Race Date       datetime64[ns]\n",
      "Rain                      bool\n",
      "Fee                     object\n",
      "dtype: object \n",
      "\n",
      "----------------------------------- \n",
      "\n",
      "The data infor for this df are:\n",
      "<class 'pandas.core.frame.DataFrame'>\n",
      "RangeIndex: 5 entries, 0 to 4\n",
      "Data columns (total 8 columns):\n",
      " #   Column        Non-Null Count  Dtype         \n",
      "---  ------        --------------  -----         \n",
      " 0   Name          5 non-null      object        \n",
      " 1   Run Time      5 non-null      float64       \n",
      " 2   Warm Up Time  5 non-null      object        \n",
      " 3   Location      5 non-null      object        \n",
      " 4   Run Date      5 non-null      datetime64[ns]\n",
      " 5   Race Date     5 non-null      datetime64[ns]\n",
      " 6   Rain          5 non-null      bool          \n",
      " 7   Fee           5 non-null      object        \n",
      "dtypes: bool(1), datetime64[ns](2), float64(1), object(4)\n",
      "memory usage: 417.0+ bytes\n",
      "None\n"
     ]
    }
   ],
   "source": [
    "# To check the types of the columns, dtypes or info() are usefull. It is always a good practice to check before proceeding the analysis\n",
    "print('The data types for this df are:')\n",
    "print(df.dtypes,'\\n')\n",
    "\n",
    "print('-----------------------------------','\\n')\n",
    "print('The data infor for this df are:')\n",
    "print(df.info())"
   ]
  },
  {
   "cell_type": "code",
   "execution_count": 67,
   "id": "ccb03eec-d144-44d9-aa27-97d6c583314c",
   "metadata": {},
   "outputs": [
    {
     "name": "stdout",
     "output_type": "stream",
     "text": [
      "     Name  Run Time Warm Up Time   Location            Run Date  Race Date   Rain    Fee\n",
      "0  Alexis    9.2343          3.5   “school” 2023-04-15 12:00:00 2023-06-01  False  $0.00\n",
      "1  Alexis   10.3842          3.5     School 2023-04-22 12:30:00 2023-06-01   True  $0.00\n",
      "2  Alexis    8.1209        3 min  “the gym” 2023-05-10 15:00:00 2023-06-01  False  $2.50\n",
      "3   David    7.2123          2.2   “school” 2023-05-01 15:15:00 2023-06-15  False  $0.00\n",
      "4   David    6.8342            2      “gym” 2023-05-10 16:30:00 2023-06-15  False  $2.50\n"
     ]
    }
   ],
   "source": [
    "# head() allow us to see the first 5 rows of the data\n",
    "df.head()\n",
    "print(df.head())"
   ]
  },
  {
   "cell_type": "code",
   "execution_count": 69,
   "id": "76943218-d49d-4805-9bbc-8b8ca9946115",
   "metadata": {},
   "outputs": [
    {
     "name": "stdout",
     "output_type": "stream",
     "text": [
      "     Name  Run Time Warm Up Time   Location            Run Date  Race Date   Rain  Fee\n",
      "0  Alexis    9.2343          3.5   “school” 2023-04-15 12:00:00 2023-06-01  False  0.0\n",
      "1  Alexis   10.3842          3.5     School 2023-04-22 12:30:00 2023-06-01   True  0.0\n",
      "2  Alexis    8.1209        3 min  “the gym” 2023-05-10 15:00:00 2023-06-01  False  2.5\n",
      "3   David    7.2123          2.2   “school” 2023-05-01 15:15:00 2023-06-15  False  0.0\n",
      "4   David    6.8342            2      “gym” 2023-05-10 16:30:00 2023-06-15  False  2.5\n"
     ]
    }
   ],
   "source": [
    "# This code is removing the $ from the fields and transforming it into a float column\n",
    "df.Fee = pd.to_numeric(df.Fee.str.replace('$',''))\n",
    "# Checking it\n",
    "print(df)"
   ]
  },
  {
   "cell_type": "code",
   "execution_count": 71,
   "id": "1c517dd1-89a2-47e2-af56-a643f4a2b173",
   "metadata": {},
   "outputs": [
    {
     "name": "stdout",
     "output_type": "stream",
     "text": [
      "<class 'pandas.core.series.Series'>\n",
      "RangeIndex: 5 entries, 0 to 4\n",
      "Series name: Fee\n",
      "Non-Null Count  Dtype  \n",
      "--------------  -----  \n",
      "5 non-null      float64\n",
      "dtypes: float64(1)\n",
      "memory usage: 172.0 bytes\n",
      "None\n"
     ]
    }
   ],
   "source": [
    "# Checking converstion of the Fee colum from str to numeric float\n",
    "\n",
    "#df.Fee.info()\n",
    "#df['Fee'].info()\n",
    "'''\n",
    "It is possible to visualize columns from a DataFrame \n",
    "using .ColumnName or [ColumnName] after the DataFrame Name\n",
    "\n",
    "'''\n",
    "\n",
    "print(df.Fee.info())"
   ]
  },
  {
   "cell_type": "code",
   "execution_count": 79,
   "id": "31cb5345-32e8-4696-8e32-05381d0ea2ee",
   "metadata": {},
   "outputs": [
    {
     "name": "stdout",
     "output_type": "stream",
     "text": [
      "     Name  Run Time Warm Up Time   Location            Run Date  Race Date   Rain  Fee\n",
      "0  Alexis    9.2343          3.5   “school” 2023-04-15 12:00:00 2023-06-01  False  0.0\n",
      "1  Alexis   10.3842          3.5     School 2023-04-22 12:30:00 2023-06-01   True  0.0\n",
      "2  Alexis    8.1209        3 min  “the gym” 2023-05-10 15:00:00 2023-06-01  False  2.5\n",
      "3   David    7.2123          2.2   “school” 2023-05-01 15:15:00 2023-06-15  False  0.0\n",
      "4   David    6.8342            2      “gym” 2023-05-10 16:30:00 2023-06-15  False  2.5 \n",
      "\n",
      "Looking into Warm Up Time column\n",
      "0      3.5\n",
      "1      3.5\n",
      "2    3 min\n",
      "3      2.2\n",
      "4        2\n",
      "Name: Warm Up Time, dtype: object\n"
     ]
    }
   ],
   "source": [
    "print(df,'\\n')\n",
    "\n",
    "print('Looking into Warm Up Time column')\n",
    "print(df['Warm Up Time'])"
   ]
  },
  {
   "cell_type": "code",
   "execution_count": 105,
   "id": "892cb194-2df0-4277-bc02-0ed2a007d641",
   "metadata": {},
   "outputs": [
    {
     "name": "stdout",
     "output_type": "stream",
     "text": [
      "Checking Warm Up time convertion into float \n",
      "\n",
      "     Name  Run Time  Warm Up Time   Location            Run Date  Race Date   Rain  Fee\n",
      "0  Alexis    9.2343           3.5   “school” 2023-04-15 12:00:00 2023-06-01  False  0.0\n",
      "1  Alexis   10.3842           3.5     School 2023-04-22 12:30:00 2023-06-01   True  0.0\n",
      "2  Alexis    8.1209           3.0  “the gym” 2023-05-10 15:00:00 2023-06-01  False  2.5\n",
      "3   David    7.2123           2.2   “school” 2023-05-01 15:15:00 2023-06-15  False  0.0\n",
      "4   David    6.8342           2.0      “gym” 2023-05-10 16:30:00 2023-06-15  False  2.5\n"
     ]
    }
   ],
   "source": [
    "#pd.to_numeric(df['Warm Up Time'], errors='coerce')\n",
    "#This code is first converting the column into str to remove 'min' and then converting the remain info into float\n",
    "df['Warm Up Time'] = pd.to_numeric(df['Warm Up Time'].astype('str').str.replace('min',''))\n",
    "\n",
    "# Checking\n",
    "print('Checking Warm Up time convertion into float','\\n')\n",
    "print(df)"
   ]
  },
  {
   "cell_type": "code",
   "execution_count": 107,
   "id": "5b74bbda-3848-43cb-a489-ec6ad1371a45",
   "metadata": {},
   "outputs": [
    {
     "name": "stdout",
     "output_type": "stream",
     "text": [
      "Checking Rain convertion into Integer \n",
      "\n",
      "     Name  Run Time  Warm Up Time   Location            Run Date  Race Date  Rain  Fee\n",
      "0  Alexis    9.2343           3.5   “school” 2023-04-15 12:00:00 2023-06-01     0  0.0\n",
      "1  Alexis   10.3842           3.5     School 2023-04-22 12:30:00 2023-06-01     1  0.0\n",
      "2  Alexis    8.1209           3.0  “the gym” 2023-05-10 15:00:00 2023-06-01     0  2.5\n",
      "3   David    7.2123           2.2   “school” 2023-05-01 15:15:00 2023-06-15     0  0.0\n",
      "4   David    6.8342           2.0      “gym” 2023-05-10 16:30:00 2023-06-15     0  2.5\n"
     ]
    }
   ],
   "source": [
    "# This code is converting the Rain column from boolean into integer\n",
    "df.Rain = df.Rain.astype('int')\n",
    "print('Checking Rain convertion into Integer', '\\n')\n",
    "print(df)"
   ]
  },
  {
   "cell_type": "markdown",
   "id": "29407ec8-2310-4676-8d18-c2c240cf418f",
   "metadata": {},
   "source": [
    "### Missing Data"
   ]
  },
  {
   "cell_type": "code",
   "execution_count": 115,
   "id": "62d79ea5-4902-42be-b27a-4429bdda0aef",
   "metadata": {},
   "outputs": [
    {
     "data": {
      "text/plain": [
       "<NA>"
      ]
     },
     "execution_count": 115,
     "metadata": {},
     "output_type": "execute_result"
    }
   ],
   "source": [
    "# Numpy and Pandas representation of non values. It is common seeing NaN from Numpy displayed.\n",
    "np.NaN\n",
    "pd.NA"
   ]
  },
  {
   "cell_type": "markdown",
   "id": "0e8b32d2-c6e8-402f-b2e7-ecadafb5e7f0",
   "metadata": {},
   "source": [
    "### Identifying Missing Data\n",
    "\n",
    "The easiest way to identify missing data is with the **.isna()** method. It is posible to use **info()** or **.value_counts(dropna=False)**\n",
    "\n",
    "`df.isna()`\n",
    "\n",
    "`df.isna().sum()`\n",
    "\n",
    "`df[df.isna().any(axis=1)]`"
   ]
  },
  {
   "cell_type": "markdown",
   "id": "2c0310da-8ede-48be-b062-8d3540abe526",
   "metadata": {},
   "source": [
    "### Missing Data Demo"
   ]
  },
  {
   "cell_type": "code",
   "execution_count": 250,
   "id": "0200980f-3207-434d-95c4-44f36b7986af",
   "metadata": {},
   "outputs": [
    {
     "name": "stdout",
     "output_type": "stream",
     "text": [
      "    Student Class    Year  Grade\n",
      "81      NaN   NaN     NaN    NaN\n",
      "82  Bennett   NaN     NaN    NaN\n",
      "83      NaN   EDA  Junior   84.0\n",
      "84    Gavin   EDA  Senior    NaN\n",
      "85   Calvin   NaN     NaN  100.0\n"
     ]
    }
   ],
   "source": [
    "# Open the xlxs file by travelling to its directory\n",
    "df = pd.read_excel('../../../Python/Data_Science/Data/Student Grades.xlsx')\n",
    "print(df.tail())"
   ]
  },
  {
   "cell_type": "code",
   "execution_count": 244,
   "id": "171d6aaa-adca-4dba-bc43-1df4ef112d95",
   "metadata": {},
   "outputs": [
    {
     "name": "stdout",
     "output_type": "stream",
     "text": [
      "Do not undestood this one very well\n",
      "Student  Class            Year       Grade\n",
      "Isaac    Intro to SQL     Sophomore  96.0     3\n",
      "Aaron    EDA              Junior     85.0     1\n",
      "Joseph   Intro to Python  Freshman   93.0     1\n",
      "Luke     Intro to SQL     Sophomore  76.0     1\n",
      "Lucas    Intro to Python  Freshman   77.0     1\n",
      "                                             ..\n",
      "Eli      EDA              Junior     92.0     1\n",
      "Dylan    Intro to Python  Freshman   84.0     1\n",
      "David    Intro to Python  Freshman   74.0     1\n",
      "Daniel   Intro to Python  Freshman   85.0     1\n",
      "Zoey     EDA              Junior     91.0     1\n",
      "Name: count, Length: 75, dtype: int64\n"
     ]
    }
   ],
   "source": [
    "print('Do not undestood this one very well')\n",
    "print(df.value_counts())"
   ]
  },
  {
   "cell_type": "code",
   "execution_count": 240,
   "id": "026492d9-9164-4009-81d6-06713753a406",
   "metadata": {},
   "outputs": [
    {
     "name": "stdout",
     "output_type": "stream",
     "text": [
      "Checking how many times the items are repetead in a column\n",
      "Year\n",
      "Freshman     35\n",
      "Sophomore    24\n",
      "Junior       20\n",
      "Senior        1\n",
      "Name: count, dtype: int64\n"
     ]
    }
   ],
   "source": [
    "print('Checking how many times the items are repetead in a column')\n",
    "print(df.Year.value_counts())"
   ]
  },
  {
   "cell_type": "code",
   "execution_count": 248,
   "id": "ca3c65be-25ce-45e7-a862-bf642bf6a145",
   "metadata": {},
   "outputs": [
    {
     "name": "stdout",
     "output_type": "stream",
     "text": [
      "Ckecking including also NaN values\n"
     ]
    },
    {
     "data": {
      "text/plain": [
       "Year\n",
       "Freshman     35\n",
       "Sophomore    24\n",
       "Junior       20\n",
       "NaN           6\n",
       "Senior        1\n",
       "Name: count, dtype: int64"
      ]
     },
     "execution_count": 248,
     "metadata": {},
     "output_type": "execute_result"
    }
   ],
   "source": [
    "print('Ckecking including also NaN values')\n",
    "df.Year.value_counts(dropna=False)"
   ]
  },
  {
   "cell_type": "code",
   "execution_count": 256,
   "id": "557faa01-e710-427f-b18f-0718a0b21cad",
   "metadata": {},
   "outputs": [
    {
     "name": "stdout",
     "output_type": "stream",
     "text": [
      "Checking .isna() method\n",
      "    Student  Class   Year  Grade\n",
      "0     False  False  False  False\n",
      "1     False  False  False  False\n",
      "2     False  False  False  False\n",
      "3     False  False  False  False\n",
      "4     False  False  False  False\n",
      "..      ...    ...    ...    ...\n",
      "81     True   True   True   True\n",
      "82    False   True   True   True\n",
      "83     True  False  False  False\n",
      "84    False  False  False   True\n",
      "85    False   True   True  False\n",
      "\n",
      "[86 rows x 4 columns]\n"
     ]
    }
   ],
   "source": [
    "print('Checking .isna() method')\n",
    "print(df.isna()) # It returns boolean"
   ]
  },
  {
   "cell_type": "code",
   "execution_count": 260,
   "id": "26697e4a-475a-4c3e-a4c8-a140689bbd89",
   "metadata": {},
   "outputs": [
    {
     "name": "stdout",
     "output_type": "stream",
     "text": [
      "Checking .isna() with .sum()\n",
      "Student    2\n",
      "Class      3\n",
      "Year       6\n",
      "Grade      4\n",
      "dtype: int64\n"
     ]
    }
   ],
   "source": [
    "print('Checking .isna() with .sum()')\n",
    "print(df.isna().sum()) # This sum up all the True values "
   ]
  },
  {
   "cell_type": "code",
   "execution_count": 262,
   "id": "6ad8687f-e1a7-4397-8a59-1006054cb8a3",
   "metadata": {},
   "outputs": [
    {
     "data": {
      "text/plain": [
       "0     False\n",
       "1     False\n",
       "2     False\n",
       "3     False\n",
       "4     False\n",
       "      ...  \n",
       "81     True\n",
       "82     True\n",
       "83     True\n",
       "84     True\n",
       "85     True\n",
       "Length: 86, dtype: bool"
      ]
     },
     "execution_count": 262,
     "metadata": {},
     "output_type": "execute_result"
    }
   ],
   "source": [
    "print('Checking .any() Method')\n",
    "print(df.isna().any(axis=1)) # This line is not clear to me"
   ]
  },
  {
   "cell_type": "code",
   "execution_count": 268,
   "id": "e9e088fa-9b9d-4ed8-add3-3a9e9d58693f",
   "metadata": {},
   "outputs": [
    {
     "name": "stdout",
     "output_type": "stream",
     "text": [
      "Checking .any() method for the entire df\n",
      "    Student                      Class    Year  Grade\n",
      "7     Jacob           Freshman Seminar     NaN   88.0\n",
      "8   William           Freshman Seminar     NaN   89.0\n",
      "9     Ethan           Freshman Seminar     NaN   86.0\n",
      "62   Landon  Exploratory Data Analysis  Junior    NaN\n",
      "81      NaN                        NaN     NaN    NaN\n",
      "82  Bennett                        NaN     NaN    NaN\n",
      "83      NaN                        EDA  Junior   84.0\n",
      "84    Gavin                        EDA  Senior    NaN\n",
      "85   Calvin                        NaN     NaN  100.0\n"
     ]
    }
   ],
   "source": [
    "print('Checking .any() method for the entire df')\n",
    "print(df[df.isna().any(axis=1)]) #here it return all rows with one NaN value."
   ]
  },
  {
   "cell_type": "markdown",
   "id": "736d486f-04d8-46c4-959d-88a1f7a6c3f0",
   "metadata": {},
   "source": [
    "### Handling Missing Data\n",
    "\n",
    "There are multiple ways to **handle missing data**:\n",
    "- Keep the missing data as is\n",
    "- remove an entire row or column\n",
    "- Input missing numerical data with 0 or average, mode, etc.\n",
    "- Resolve the missing data based on domain expertise\n",
    "\n",
    "### Keep Missing data\n",
    "\n",
    "It is still possible to perform calculation in columns with `NaN`.\n",
    "\n",
    "### Imputing Missing Data\n",
    "\n",
    "The **.fillna()** method imputes missing data with an appropriate value.\n",
    "\n",
    "`df['Income'] = df['Income'].fillna(df['Income'].median())`\n"
   ]
  },
  {
   "cell_type": "markdown",
   "id": "1ed3eee4-1e5d-4012-92d1-4b333abef1d7",
   "metadata": {},
   "source": [
    "### Pro Tip: Keeping Non-Missing Data\n",
    "\n",
    "There is **.notna()** that keeps non-missing data insted"
   ]
  },
  {
   "cell_type": "code",
   "execution_count": 302,
   "id": "0725880e-e03c-4d7a-9704-b9ab71191879",
   "metadata": {},
   "outputs": [
    {
     "name": "stdout",
     "output_type": "stream",
     "text": [
      "Ckecking .notna() on Year column\n",
      "    Student             Class      Year  Grade\n",
      "0      Emma  Freshman Seminar  Freshman   86.0\n",
      "1    Olivia  Freshman Seminar  Freshman   86.0\n",
      "2      Noah  Freshman Seminar  Freshman   86.0\n",
      "3    Sophia  Freshman Seminar  Freshman   87.0\n",
      "4      Liam  Freshman Seminar  Freshman   90.0\n",
      "..      ...               ...       ...    ...\n",
      "78  Charles               EDA    Junior   93.0\n",
      "79   Connor               EDA    Junior   91.0\n",
      "80    Riley               EDA    Junior   87.0\n",
      "83      NaN               EDA    Junior   84.0\n",
      "84    Gavin               EDA    Senior    NaN\n",
      "\n",
      "[80 rows x 4 columns]\n"
     ]
    }
   ],
   "source": [
    "print('Ckecking .notna() on Year column')\n",
    "print(df[df['Year'].notna()]) # it is possible to checke its effectiveness by the index numbers"
   ]
  },
  {
   "cell_type": "markdown",
   "id": "f1f0ab85-65ba-49ac-b798-4932c21cf6e3",
   "metadata": {},
   "source": [
    "### Removing Missing Data"
   ]
  },
  {
   "cell_type": "code",
   "execution_count": 270,
   "id": "3cf07ec5-6cbd-4f5e-a29e-2094599aea31",
   "metadata": {},
   "outputs": [
    {
     "name": "stdout",
     "output_type": "stream",
     "text": [
      "Checking rows with NaN \n",
      "\n",
      "    Student Class    Year  Grade\n",
      "81      NaN   NaN     NaN    NaN\n",
      "82  Bennett   NaN     NaN    NaN\n",
      "83      NaN   EDA  Junior   84.0\n",
      "84    Gavin   EDA  Senior    NaN\n",
      "85   Calvin   NaN     NaN  100.0\n"
     ]
    }
   ],
   "source": [
    "print('Checking rows with NaN','\\n')\n",
    "print(df.tail())"
   ]
  },
  {
   "cell_type": "code",
   "execution_count": 278,
   "id": "96f69254-2c44-4825-af5c-5257ea0f76e4",
   "metadata": {},
   "outputs": [
    {
     "name": "stdout",
     "output_type": "stream",
     "text": [
      "Checking .dropna() removing any row with NaN value\n",
      "    Student Class    Year  Grade\n",
      "76     Zoey   EDA  Junior   91.0\n",
      "77    Aaron   EDA  Junior   85.0\n",
      "78  Charles   EDA  Junior   93.0\n",
      "79   Connor   EDA  Junior   91.0\n",
      "80    Riley   EDA  Junior   87.0 \n",
      "\n"
     ]
    }
   ],
   "source": [
    "print('Checking .dropna() removing any row with NaN value')\n",
    "print(df.dropna().tail(), '\\n') # Removing any rows with NaN values"
   ]
  },
  {
   "cell_type": "code",
   "execution_count": 280,
   "id": "1762b7f1-7ddc-4f67-9315-c09162c2ac02",
   "metadata": {},
   "outputs": [
    {
     "name": "stdout",
     "output_type": "stream",
     "text": [
      "Checking .dropna() with thresh\n",
      "   Student Class    Year  Grade\n",
      "79  Connor   EDA  Junior   91.0\n",
      "80   Riley   EDA  Junior   87.0\n",
      "83     NaN   EDA  Junior   84.0\n",
      "84   Gavin   EDA  Senior    NaN\n",
      "85  Calvin   NaN     NaN  100.0 \n",
      "\n"
     ]
    }
   ],
   "source": [
    "print('Checking .dropna() with thresh')\n",
    "print(df.dropna(thresh=2).tail(), '\\n') # thresh = n, if the row more than n NaN, remove the row"
   ]
  },
  {
   "cell_type": "code",
   "execution_count": 282,
   "id": "5d71e110-fbc0-46f5-85d0-6317f0163896",
   "metadata": {},
   "outputs": [
    {
     "name": "stdout",
     "output_type": "stream",
     "text": [
      "Checking .dropna() allong with subset\n",
      "  Student             Class      Year  Grade\n",
      "0    Emma  Freshman Seminar  Freshman   86.0\n",
      "1  Olivia  Freshman Seminar  Freshman   86.0\n",
      "2    Noah  Freshman Seminar  Freshman   86.0\n",
      "3  Sophia  Freshman Seminar  Freshman   87.0\n",
      "4    Liam  Freshman Seminar  Freshman   90.0\n"
     ]
    }
   ],
   "source": [
    "print('Checking .dropna() allong with subset')\n",
    "print(df.dropna(subset=['Year']).head()) # Subset allow us to choose the column"
   ]
  },
  {
   "cell_type": "code",
   "execution_count": 294,
   "id": "47b49a12-5d43-429d-8465-0cf25e586ed1",
   "metadata": {},
   "outputs": [
    {
     "name": "stdout",
     "output_type": "stream",
     "text": [
      "Checking this chain of methods removing NaN from selected columns\n",
      "    Student                      Class    Year  Grade\n",
      "7     Jacob           Freshman Seminar     NaN   88.0\n",
      "8   William           Freshman Seminar     NaN   89.0\n",
      "9     Ethan           Freshman Seminar     NaN   86.0\n",
      "62   Landon  Exploratory Data Analysis  Junior    NaN\n",
      "84    Gavin                        EDA  Senior    NaN\n"
     ]
    }
   ],
   "source": [
    "print('Checking this chain of methods removing NaN from selected columns')\n",
    "print(df[df.isna().any(axis=1)].dropna(subset=['Student', 'Class']))"
   ]
  },
  {
   "cell_type": "code",
   "execution_count": 298,
   "id": "05d618b6-97de-4c78-8e2e-eeb585eca3f2",
   "metadata": {},
   "outputs": [
    {
     "data": {
      "text/html": [
       "<div>\n",
       "<style scoped>\n",
       "    .dataframe tbody tr th:only-of-type {\n",
       "        vertical-align: middle;\n",
       "    }\n",
       "\n",
       "    .dataframe tbody tr th {\n",
       "        vertical-align: top;\n",
       "    }\n",
       "\n",
       "    .dataframe thead th {\n",
       "        text-align: right;\n",
       "    }\n",
       "</style>\n",
       "<table border=\"1\" class=\"dataframe\">\n",
       "  <thead>\n",
       "    <tr style=\"text-align: right;\">\n",
       "      <th></th>\n",
       "      <th>Student</th>\n",
       "      <th>Class</th>\n",
       "      <th>Year</th>\n",
       "      <th>Grade</th>\n",
       "    </tr>\n",
       "  </thead>\n",
       "  <tbody>\n",
       "    <tr>\n",
       "      <th>0</th>\n",
       "      <td>Emma</td>\n",
       "      <td>Freshman Seminar</td>\n",
       "      <td>Freshman</td>\n",
       "      <td>86.0</td>\n",
       "    </tr>\n",
       "    <tr>\n",
       "      <th>1</th>\n",
       "      <td>Olivia</td>\n",
       "      <td>Freshman Seminar</td>\n",
       "      <td>Freshman</td>\n",
       "      <td>86.0</td>\n",
       "    </tr>\n",
       "    <tr>\n",
       "      <th>2</th>\n",
       "      <td>Noah</td>\n",
       "      <td>Freshman Seminar</td>\n",
       "      <td>Freshman</td>\n",
       "      <td>86.0</td>\n",
       "    </tr>\n",
       "    <tr>\n",
       "      <th>3</th>\n",
       "      <td>Sophia</td>\n",
       "      <td>Freshman Seminar</td>\n",
       "      <td>Freshman</td>\n",
       "      <td>87.0</td>\n",
       "    </tr>\n",
       "    <tr>\n",
       "      <th>4</th>\n",
       "      <td>Liam</td>\n",
       "      <td>Freshman Seminar</td>\n",
       "      <td>Freshman</td>\n",
       "      <td>90.0</td>\n",
       "    </tr>\n",
       "    <tr>\n",
       "      <th>...</th>\n",
       "      <td>...</td>\n",
       "      <td>...</td>\n",
       "      <td>...</td>\n",
       "      <td>...</td>\n",
       "    </tr>\n",
       "    <tr>\n",
       "      <th>77</th>\n",
       "      <td>Aaron</td>\n",
       "      <td>EDA</td>\n",
       "      <td>Junior</td>\n",
       "      <td>85.0</td>\n",
       "    </tr>\n",
       "    <tr>\n",
       "      <th>78</th>\n",
       "      <td>Charles</td>\n",
       "      <td>EDA</td>\n",
       "      <td>Junior</td>\n",
       "      <td>93.0</td>\n",
       "    </tr>\n",
       "    <tr>\n",
       "      <th>79</th>\n",
       "      <td>Connor</td>\n",
       "      <td>EDA</td>\n",
       "      <td>Junior</td>\n",
       "      <td>91.0</td>\n",
       "    </tr>\n",
       "    <tr>\n",
       "      <th>80</th>\n",
       "      <td>Riley</td>\n",
       "      <td>EDA</td>\n",
       "      <td>Junior</td>\n",
       "      <td>87.0</td>\n",
       "    </tr>\n",
       "    <tr>\n",
       "      <th>84</th>\n",
       "      <td>Gavin</td>\n",
       "      <td>EDA</td>\n",
       "      <td>Senior</td>\n",
       "      <td>NaN</td>\n",
       "    </tr>\n",
       "  </tbody>\n",
       "</table>\n",
       "<p>82 rows × 4 columns</p>\n",
       "</div>"
      ],
      "text/plain": [
       "    Student             Class      Year  Grade\n",
       "0      Emma  Freshman Seminar  Freshman   86.0\n",
       "1    Olivia  Freshman Seminar  Freshman   86.0\n",
       "2      Noah  Freshman Seminar  Freshman   86.0\n",
       "3    Sophia  Freshman Seminar  Freshman   87.0\n",
       "4      Liam  Freshman Seminar  Freshman   90.0\n",
       "..      ...               ...       ...    ...\n",
       "77    Aaron               EDA    Junior   85.0\n",
       "78  Charles               EDA    Junior   93.0\n",
       "79   Connor               EDA    Junior   91.0\n",
       "80    Riley               EDA    Junior   87.0\n",
       "84    Gavin               EDA    Senior    NaN\n",
       "\n",
       "[82 rows x 4 columns]"
      ]
     },
     "execution_count": 298,
     "metadata": {},
     "output_type": "execute_result"
    }
   ],
   "source": [
    "# df = dropna(subset=['Student', 'Class'])) not doing it now. Assing the udpates to the df\n",
    "# df.dropna(subset=['Student', 'Class'], inplace=True) Inplace assing the updates to my df. Not doing it."
   ]
  },
  {
   "cell_type": "code",
   "execution_count": null,
   "id": "dabf063f-c831-4368-a0bf-5229053e715f",
   "metadata": {},
   "outputs": [],
   "source": []
  }
 ],
 "metadata": {
  "kernelspec": {
   "display_name": "Python [conda env:base] *",
   "language": "python",
   "name": "conda-base-py"
  },
  "language_info": {
   "codemirror_mode": {
    "name": "ipython",
    "version": 3
   },
   "file_extension": ".py",
   "mimetype": "text/x-python",
   "name": "python",
   "nbconvert_exporter": "python",
   "pygments_lexer": "ipython3",
   "version": "3.12.7"
  }
 },
 "nbformat": 4,
 "nbformat_minor": 5
}
