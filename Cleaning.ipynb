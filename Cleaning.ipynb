{
 "cells": [
  {
   "cell_type": "code",
   "execution_count": 2,
   "id": "9e34a7d9-9cb2-4ce4-96c7-2cc793044fcf",
   "metadata": {},
   "outputs": [],
   "source": [
    "import pandas as pd\n",
    "import numpy as np"
   ]
  },
  {
   "cell_type": "markdown",
   "id": "43e4a7aa-2b7d-4cb6-a3e2-2c68d90b92fd",
   "metadata": {},
   "source": [
    "## Exploring data frame "
   ]
  },
  {
   "cell_type": "code",
   "execution_count": null,
   "id": "9951d0ba-0770-40be-b79b-db699f5fe0e4",
   "metadata": {},
   "outputs": [],
   "source": [
    "df = pd.read_excel('../Run Times.xlsx')\n",
    "df"
   ]
  },
  {
   "cell_type": "code",
   "execution_count": null,
   "id": "6e341016-86e5-4f56-a4b6-efb128677db6",
   "metadata": {},
   "outputs": [],
   "source": [
    "df.dtypes\n",
    "df.info()"
   ]
  },
  {
   "cell_type": "code",
   "execution_count": null,
   "id": "ccb03eec-d144-44d9-aa27-97d6c583314c",
   "metadata": {},
   "outputs": [],
   "source": [
    "df.head()"
   ]
  },
  {
   "cell_type": "code",
   "execution_count": null,
   "id": "76943218-d49d-4805-9bbc-8b8ca9946115",
   "metadata": {},
   "outputs": [],
   "source": [
    "df.Fee = pd.to_numeric(df.Fee.str.replace('$',''))"
   ]
  },
  {
   "cell_type": "code",
   "execution_count": null,
   "id": "892cb194-2df0-4277-bc02-0ed2a007d641",
   "metadata": {},
   "outputs": [],
   "source": [
    "#pd.to_numeric(df['Warm Up Time'], errors='coerce')\n",
    "df['Warm Up Time'] = pd.to_numeric(df['Warm Up Time'].astype('str').str.replace('min',''))"
   ]
  },
  {
   "cell_type": "code",
   "execution_count": null,
   "id": "176ac29f-2370-4e14-a92b-cf47561ae094",
   "metadata": {},
   "outputs": [],
   "source": [
    "df.dtypes"
   ]
  },
  {
   "cell_type": "code",
   "execution_count": null,
   "id": "aaa5a063-1bb1-46f0-913e-a8ed82779ae9",
   "metadata": {},
   "outputs": [],
   "source": [
    "df.head()"
   ]
  },
  {
   "cell_type": "code",
   "execution_count": null,
   "id": "5b74bbda-3848-43cb-a489-ec6ad1371a45",
   "metadata": {},
   "outputs": [],
   "source": [
    "df.Rain = df.Rain.astype('int')"
   ]
  },
  {
   "cell_type": "code",
   "execution_count": null,
   "id": "73d9f25c-c460-4d92-9683-64050263368a",
   "metadata": {},
   "outputs": [],
   "source": []
  },
  {
   "cell_type": "markdown",
   "id": "29407ec8-2310-4676-8d18-c2c240cf418f",
   "metadata": {},
   "source": [
    "## Missing Data"
   ]
  },
  {
   "cell_type": "code",
   "execution_count": 37,
   "id": "6461eb99-8cf1-4c03-9455-4c3d641bc22d",
   "metadata": {},
   "outputs": [
    {
     "data": {
      "text/html": [
       "<div>\n",
       "<style scoped>\n",
       "    .dataframe tbody tr th:only-of-type {\n",
       "        vertical-align: middle;\n",
       "    }\n",
       "\n",
       "    .dataframe tbody tr th {\n",
       "        vertical-align: top;\n",
       "    }\n",
       "\n",
       "    .dataframe thead th {\n",
       "        text-align: right;\n",
       "    }\n",
       "</style>\n",
       "<table border=\"1\" class=\"dataframe\">\n",
       "  <thead>\n",
       "    <tr style=\"text-align: right;\">\n",
       "      <th></th>\n",
       "      <th>Student</th>\n",
       "      <th>Class</th>\n",
       "      <th>Year</th>\n",
       "      <th>Grade</th>\n",
       "    </tr>\n",
       "  </thead>\n",
       "  <tbody>\n",
       "    <tr>\n",
       "      <th>81</th>\n",
       "      <td>NaN</td>\n",
       "      <td>NaN</td>\n",
       "      <td>NaN</td>\n",
       "      <td>NaN</td>\n",
       "    </tr>\n",
       "    <tr>\n",
       "      <th>82</th>\n",
       "      <td>Bennett</td>\n",
       "      <td>NaN</td>\n",
       "      <td>NaN</td>\n",
       "      <td>NaN</td>\n",
       "    </tr>\n",
       "    <tr>\n",
       "      <th>83</th>\n",
       "      <td>NaN</td>\n",
       "      <td>EDA</td>\n",
       "      <td>Junior</td>\n",
       "      <td>84.0</td>\n",
       "    </tr>\n",
       "    <tr>\n",
       "      <th>84</th>\n",
       "      <td>Gavin</td>\n",
       "      <td>EDA</td>\n",
       "      <td>Senior</td>\n",
       "      <td>NaN</td>\n",
       "    </tr>\n",
       "    <tr>\n",
       "      <th>85</th>\n",
       "      <td>Calvin</td>\n",
       "      <td>NaN</td>\n",
       "      <td>NaN</td>\n",
       "      <td>100.0</td>\n",
       "    </tr>\n",
       "  </tbody>\n",
       "</table>\n",
       "</div>"
      ],
      "text/plain": [
       "    Student Class    Year  Grade\n",
       "81      NaN   NaN     NaN    NaN\n",
       "82  Bennett   NaN     NaN    NaN\n",
       "83      NaN   EDA  Junior   84.0\n",
       "84    Gavin   EDA  Senior    NaN\n",
       "85   Calvin   NaN     NaN  100.0"
      ]
     },
     "execution_count": 37,
     "metadata": {},
     "output_type": "execute_result"
    }
   ],
   "source": [
    "df = pd.read_excel('../Student Grades.xlsx')\n",
    "df.tail()"
   ]
  },
  {
   "cell_type": "code",
   "execution_count": null,
   "id": "62d79ea5-4902-42be-b27a-4429bdda0aef",
   "metadata": {},
   "outputs": [],
   "source": [
    "np.NaN\n",
    "pd.NA"
   ]
  },
  {
   "cell_type": "code",
   "execution_count": null,
   "id": "e6d84e7f-5748-45a0-ac9c-98a4ff5032ef",
   "metadata": {},
   "outputs": [],
   "source": [
    "df.info()"
   ]
  },
  {
   "cell_type": "code",
   "execution_count": null,
   "id": "84d11a77-1f35-4dc7-a7be-aa119e53c734",
   "metadata": {},
   "outputs": [],
   "source": [
    "df.Year.value_counts(dropna=False)"
   ]
  },
  {
   "cell_type": "code",
   "execution_count": null,
   "id": "2ce32699-e79c-48c3-b692-d691749fae42",
   "metadata": {},
   "outputs": [],
   "source": [
    "df.isna()\n",
    "df.isna().sum()\n",
    "df.isna().any(axis=1)\n",
    "df[df.isna().any(axis=1)]"
   ]
  },
  {
   "cell_type": "markdown",
   "id": "f1f0ab85-65ba-49ac-b798-4932c21cf6e3",
   "metadata": {},
   "source": [
    "# Handling Missing Data"
   ]
  },
  {
   "cell_type": "code",
   "execution_count": null,
   "id": "28b025c3-eaff-4aa5-a67a-a229bddbe5f1",
   "metadata": {},
   "outputs": [],
   "source": [
    "df.dropna()\n",
    "df.dropna(how='all')\n",
    "df.dropna(thresh=2)\n",
    "df.dropna(subset=['City'])"
   ]
  },
  {
   "cell_type": "code",
   "execution_count": null,
   "id": "86806cbb-8f61-41f5-9d92-cf34c85030c9",
   "metadata": {},
   "outputs": [],
   "source": [
    "df[df['City'].notna()]"
   ]
  },
  {
   "cell_type": "code",
   "execution_count": 45,
   "id": "dcc5f2c1-7999-444c-8645-09d60245a993",
   "metadata": {},
   "outputs": [],
   "source": [
    "df[df.isna().any(axis=1)].dropna()\n",
    "df[df.isna().any(axis=1)].dropna(subset=['Student','Class'])\n",
    "df = df.dropna(subset=['Student','Class'], inplace=True)\n",
    "df"
   ]
  },
  {
   "cell_type": "code",
   "execution_count": 47,
   "id": "f3a0b29f-e4e1-41b2-bfdf-ab77f1aa4684",
   "metadata": {},
   "outputs": [
    {
     "ename": "AttributeError",
     "evalue": "'NoneType' object has no attribute 'shape'",
     "output_type": "error",
     "traceback": [
      "\u001b[1;31m---------------------------------------------------------------------------\u001b[0m",
      "\u001b[1;31mAttributeError\u001b[0m                            Traceback (most recent call last)",
      "Cell \u001b[1;32mIn[47], line 1\u001b[0m\n\u001b[1;32m----> 1\u001b[0m df\u001b[38;5;241m.\u001b[39mshape\n",
      "\u001b[1;31mAttributeError\u001b[0m: 'NoneType' object has no attribute 'shape'"
     ]
    }
   ],
   "source": [
    "df.shape"
   ]
  },
  {
   "cell_type": "code",
   "execution_count": null,
   "id": "9a7458ca-c290-43e5-b2dc-05d377fe3df5",
   "metadata": {},
   "outputs": [],
   "source": []
  },
  {
   "cell_type": "code",
   "execution_count": null,
   "id": "33a28713-db2e-48e7-9ee1-117433826d9b",
   "metadata": {},
   "outputs": [],
   "source": []
  },
  {
   "cell_type": "code",
   "execution_count": null,
   "id": "249c0a28-ae30-464a-9343-5644777d9cd8",
   "metadata": {},
   "outputs": [],
   "source": []
  },
  {
   "cell_type": "code",
   "execution_count": null,
   "id": "dab91316-e1e3-403e-8f70-0f166ab0d1b2",
   "metadata": {},
   "outputs": [],
   "source": []
  },
  {
   "cell_type": "code",
   "execution_count": null,
   "id": "fed94944-67fc-4b7f-9a72-4a0a007151ee",
   "metadata": {},
   "outputs": [],
   "source": []
  },
  {
   "cell_type": "code",
   "execution_count": null,
   "id": "05dc9a68-ca0c-436b-b94f-5b118c164f74",
   "metadata": {},
   "outputs": [],
   "source": []
  }
 ],
 "metadata": {
  "kernelspec": {
   "display_name": "Python [conda env:base] *",
   "language": "python",
   "name": "conda-base-py"
  },
  "language_info": {
   "codemirror_mode": {
    "name": "ipython",
    "version": 3
   },
   "file_extension": ".py",
   "mimetype": "text/x-python",
   "name": "python",
   "nbconvert_exporter": "python",
   "pygments_lexer": "ipython3",
   "version": "3.12.7"
  }
 },
 "nbformat": 4,
 "nbformat_minor": 5
}
